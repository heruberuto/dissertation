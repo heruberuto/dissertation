{
 "cells": [
  {
   "cell_type": "markdown",
   "id": "e77902bd",
   "metadata": {},
   "source": [
    "# 💬 Claimify reproduction study"
   ]
  },
  {
   "cell_type": "code",
   "execution_count": 1,
   "id": "1663efac",
   "metadata": {},
   "outputs": [],
   "source": [
    "# autoreload imports\n",
    "%load_ext autoreload\n",
    "%autoreload 2"
   ]
  },
  {
   "cell_type": "code",
   "execution_count": 2,
   "id": "8540b8d2",
   "metadata": {},
   "outputs": [],
   "source": [
    "from utils.chat import load_md_prompts\n",
    "\n",
    "PROMPT_TEMPLATES = load_md_prompts(\"claimify\")"
   ]
  },
  {
   "cell_type": "markdown",
   "id": "00643476",
   "metadata": {},
   "source": [
    "## 1. Input Question and Answer"
   ]
  },
  {
   "cell_type": "code",
   "execution_count": 13,
   "id": "064c8039",
   "metadata": {},
   "outputs": [
    {
     "name": "stdout",
     "output_type": "stream",
     "text": [
      "Collecting charboundary[numpy,onnx]\n",
      "  Downloading charboundary-0.5.0-py3-none-any.whl.metadata (28 kB)\n",
      "Requirement already satisfied: scikit-learn>=1.3.0 in /mnt/personal/ullriher/venvs/aug25/lib/python3.12/site-packages (from charboundary[numpy,onnx]) (1.7.1)\n",
      "Requirement already satisfied: tqdm>=4.67.1 in /mnt/personal/ullriher/venvs/aug25/lib/python3.12/site-packages (from charboundary[numpy,onnx]) (4.67.1)\n",
      "Collecting skops>=0.9.0 (from charboundary[numpy,onnx])\n",
      "  Downloading skops-0.13.0-py3-none-any.whl.metadata (5.6 kB)\n",
      "Requirement already satisfied: numpy>=1.23.0 in /mnt/personal/ullriher/venvs/aug25/lib/python3.12/site-packages (from charboundary[numpy,onnx]) (1.26.4)\n",
      "Collecting onnx>=1.15.0 (from charboundary[numpy,onnx])\n",
      "  Downloading onnx-1.18.0-cp312-cp312-manylinux_2_17_x86_64.manylinux2014_x86_64.whl.metadata (6.9 kB)\n",
      "Collecting skl2onnx>=1.16.0 (from charboundary[numpy,onnx])\n",
      "  Downloading skl2onnx-1.19.1-py3-none-any.whl.metadata (3.8 kB)\n",
      "Collecting onnxruntime>=1.16.0 (from charboundary[numpy,onnx])\n",
      "  Downloading onnxruntime-1.22.1-cp312-cp312-manylinux_2_27_x86_64.manylinux_2_28_x86_64.whl.metadata (4.9 kB)\n",
      "Requirement already satisfied: protobuf>=4.25.1 in /mnt/personal/ullriher/venvs/aug25/lib/python3.12/site-packages (from onnx>=1.15.0->charboundary[numpy,onnx]) (6.31.1)\n",
      "Requirement already satisfied: typing_extensions>=4.7.1 in /mnt/personal/ullriher/venvs/aug25/lib/python3.12/site-packages (from onnx>=1.15.0->charboundary[numpy,onnx]) (4.14.1)\n",
      "Collecting coloredlogs (from onnxruntime>=1.16.0->charboundary[numpy,onnx])\n",
      "  Downloading coloredlogs-15.0.1-py2.py3-none-any.whl.metadata (12 kB)\n",
      "Collecting flatbuffers (from onnxruntime>=1.16.0->charboundary[numpy,onnx])\n",
      "  Downloading flatbuffers-25.2.10-py2.py3-none-any.whl.metadata (875 bytes)\n",
      "Requirement already satisfied: packaging in /mnt/personal/ullriher/venvs/aug25/lib/python3.12/site-packages (from onnxruntime>=1.16.0->charboundary[numpy,onnx]) (25.0)\n",
      "Requirement already satisfied: sympy in /mnt/personal/ullriher/venvs/aug25/lib/python3.12/site-packages (from onnxruntime>=1.16.0->charboundary[numpy,onnx]) (1.14.0)\n",
      "Requirement already satisfied: scipy>=1.8.0 in /mnt/personal/ullriher/venvs/aug25/lib/python3.12/site-packages (from scikit-learn>=1.3.0->charboundary[numpy,onnx]) (1.16.1)\n",
      "Requirement already satisfied: joblib>=1.2.0 in /mnt/personal/ullriher/venvs/aug25/lib/python3.12/site-packages (from scikit-learn>=1.3.0->charboundary[numpy,onnx]) (1.5.1)\n",
      "Requirement already satisfied: threadpoolctl>=3.1.0 in /mnt/personal/ullriher/venvs/aug25/lib/python3.12/site-packages (from scikit-learn>=1.3.0->charboundary[numpy,onnx]) (3.6.0)\n",
      "Collecting prettytable>=3.9 (from skops>=0.9.0->charboundary[numpy,onnx])\n",
      "  Downloading prettytable-3.16.0-py3-none-any.whl.metadata (33 kB)\n",
      "Requirement already satisfied: wcwidth in /mnt/personal/ullriher/venvs/aug25/lib/python3.12/site-packages (from prettytable>=3.9->skops>=0.9.0->charboundary[numpy,onnx]) (0.2.13)\n",
      "Collecting humanfriendly>=9.1 (from coloredlogs->onnxruntime>=1.16.0->charboundary[numpy,onnx])\n",
      "  Downloading humanfriendly-10.0-py2.py3-none-any.whl.metadata (9.2 kB)\n",
      "Requirement already satisfied: mpmath<1.4,>=1.1.0 in /mnt/personal/ullriher/venvs/aug25/lib/python3.12/site-packages (from sympy->onnxruntime>=1.16.0->charboundary[numpy,onnx]) (1.3.0)\n",
      "Downloading charboundary-0.5.0-py3-none-any.whl (3.7 MB)\n",
      "\u001b[2K   \u001b[38;2;114;156;31m━━━━━━━━━━━━━━━━━━━━━━━━━━━━━━━━━━━━━━━━\u001b[0m \u001b[32m3.7/3.7 MB\u001b[0m \u001b[31m8.3 MB/s\u001b[0m  \u001b[33m0:00:00\u001b[0m10.4 MB/s\u001b[0m eta \u001b[36m0:00:01\u001b[0m:01\u001b[0m\n",
      "\u001b[?25hDownloading onnx-1.18.0-cp312-cp312-manylinux_2_17_x86_64.manylinux2014_x86_64.whl (17.6 MB)\n",
      "\u001b[2K   \u001b[38;2;114;156;31m━━━━━━━━━━━━━━━━━━━━━━━━━━━━━━━━━━━━━━━━\u001b[0m \u001b[32m17.6/17.6 MB\u001b[0m \u001b[31m12.0 MB/s\u001b[0m  \u001b[33m0:00:01\u001b[0m\u001b[0m eta \u001b[36m0:00:01\u001b[0m[36m0:00:01\u001b[0m\n",
      "\u001b[?25hDownloading onnxruntime-1.22.1-cp312-cp312-manylinux_2_27_x86_64.manylinux_2_28_x86_64.whl (16.5 MB)\n",
      "\u001b[2K   \u001b[38;2;114;156;31m━━━━━━━━━━━━━━━━━━━━━━━━━━━━━━━━━━━━━━━━\u001b[0m \u001b[32m16.5/16.5 MB\u001b[0m \u001b[31m55.7 MB/s\u001b[0m  \u001b[33m0:00:00\u001b[0m \u001b[31m52.4 MB/s\u001b[0m eta \u001b[36m0:00:01\u001b[0m\n",
      "\u001b[?25hDownloading skl2onnx-1.19.1-py3-none-any.whl (315 kB)\n",
      "Downloading skops-0.13.0-py3-none-any.whl (131 kB)\n",
      "Downloading prettytable-3.16.0-py3-none-any.whl (33 kB)\n",
      "Downloading coloredlogs-15.0.1-py2.py3-none-any.whl (46 kB)\n",
      "Downloading humanfriendly-10.0-py2.py3-none-any.whl (86 kB)\n",
      "Downloading flatbuffers-25.2.10-py2.py3-none-any.whl (30 kB)\n",
      "Installing collected packages: flatbuffers, prettytable, onnx, humanfriendly, coloredlogs, skops, skl2onnx, onnxruntime, charboundary\n",
      "\u001b[2K   \u001b[38;2;114;156;31m━━━━━━━━━━━━━━━━━━━━━━━━━━━━━━━━━━━━━━━━\u001b[0m \u001b[32m9/9\u001b[0m [charboundary]m━━━━\u001b[0m \u001b[32m8/9\u001b[0m [charboundary]\n",
      "\u001b[1A\u001b[2KSuccessfully installed charboundary-0.5.0 coloredlogs-15.0.1 flatbuffers-25.2.10 humanfriendly-10.0 onnx-1.18.0 onnxruntime-1.22.1 prettytable-3.16.0 skl2onnx-1.19.1 skops-0.13.0\n",
      "Note: you may need to restart the kernel to use updated packages.\n"
     ]
    }
   ],
   "source": [
    "%pip install charboundary[numpy,onnx]"
   ]
  },
  {
   "cell_type": "code",
   "execution_count": 4,
   "id": "e39540ef",
   "metadata": {},
   "outputs": [
    {
     "data": {
      "text/plain": [
       "AIMessage(content='Sentence: \\ntodo \\n\\n4-step stream of consciousness thought process (1. reflect on criteria at a high-level -> 2. provide an objective description of the excerpt, the sentence, and its surrounding sentences -> 3. consider all possible perspectives on whether the sentence explicitly or implicitly contains a specific and verifiable proposition, or if it just contains an introduction for the following \\nsentence(s), a conclusion for the preceding sentence(s), broad or generic statements, opinions, interpretations, speculations, statements about a lack of information, etc. -> 4. only if it contains a specific and verifiable proposition: reflect on whether any changes are needed to ensure that the entire sentence only contains verifiable information):\\n1) A sentence contains a specific and verifiable proposition if it asserts a concrete fact that could be checked; placeholders or generic exhortations do not qualify. \\n2) The provided question, excerpt, and sentence are all the placeholder \"todo\"; the sentence is a single word without context or asserted fact. \\n3) \"todo\" as a standalone word is not an assertion; it does not describe an event, attribute, or relation that can be verified. It is neither an introduction nor a conclusion with content; it is just a placeholder. \\n4) Since there is no proposition, no rewrite is possible.\\n\\nFinal submission:\\nDoes NOT contain a specific and verifiable proposition\\n\\nSentence with only verifiable information:\\nNone', additional_kwargs={'refusal': None}, response_metadata={'token_usage': {'completion_tokens': 614, 'prompt_tokens': 1229, 'total_tokens': 1843, 'completion_tokens_details': {'accepted_prediction_tokens': 0, 'audio_tokens': 0, 'reasoning_tokens': 320, 'rejected_prediction_tokens': 0}, 'prompt_tokens_details': {'audio_tokens': 0, 'cached_tokens': 0}}, 'model_name': 'gpt-5-2025-08-07', 'system_fingerprint': None, 'id': 'chatcmpl-C2uZFCOIu873P87LMmaf0vSr4N9co', 'service_tier': 'default', 'finish_reason': 'stop', 'logprobs': None}, id='run--6f4e8829-09c1-4938-b5b3-7bdf2142b537-0', usage_metadata={'input_tokens': 1229, 'output_tokens': 614, 'total_tokens': 1843, 'input_token_details': {'audio': 0, 'cache_read': 0}, 'output_token_details': {'audio': 0, 'reasoning': 320}})"
      ]
     },
     "execution_count": 4,
     "metadata": {},
     "output_type": "execute_result"
    }
   ],
   "source": [
    "# basic chatprompttemplate llm chat with gpt-5 using 'selection' prompt template\n",
    "from langchain_core.prompts import ChatPromptTemplate\n",
    "from langchain_openai import ChatOpenAI\n",
    "from langchain_ollama import ChatOllama\n",
    "\n",
    "import ssl\n",
    "import certifi\n",
    "\n",
    "chat = ChatOpenAI(model=\"gpt-5\")\n",
    "excerpt = \"\"\"\"\"\"\n",
    "question = \"\"\"\"\"\"\n",
    "sentence = \"\"\"\"\"\"\n",
    "chat.invoke(PROMPT_TEMPLATES[\"selection\"].format_messages(excerpt=excerpt, question=question, sentence=sentence))"
   ]
  },
  {
   "cell_type": "code",
   "execution_count": 17,
   "id": "fcee71c3",
   "metadata": {},
   "outputs": [
    {
     "name": "stdout",
     "output_type": "stream",
     "text": [
      "Collecting sentencex\n",
      "  Downloading sentencex-0.6.1-py3-none-any.whl.metadata (5.4 kB)\n",
      "Downloading sentencex-0.6.1-py3-none-any.whl (43 kB)\n",
      "Installing collected packages: sentencex\n",
      "Successfully installed sentencex-0.6.1\n",
      "Note: you may need to restart the kernel to use updated packages.\n"
     ]
    }
   ],
   "source": [
    "%pip install sentencex"
   ]
  },
  {
   "cell_type": "code",
   "execution_count": 21,
   "id": "54e88b83",
   "metadata": {},
   "outputs": [
    {
     "data": {
      "text/plain": [
       "['List The Wall Street Journal předtím uvedl, že Evropané na schůzi představili vlastní plán jednání o ukončení války.',\n",
       " 'Podle dokumentu před přiznáním jakýchkoli ústupků Rusku je nutné vyhlásit příměří.',\n",
       " 'Eventuální územní ústupky musí být reciproční, musí je tedy udělat Ukrajina i Rusko.',\n",
       " 'Plán také žádá silné bezpečnostní záruky pro Ukrajinu včetně členství v NATO.',\n",
       " 'Trump v minulosti dával najevo, že takový postup si nepřeje.',\n",
       " 'Bílý dům zvažuje pozvání Zelenského na Aljašku\\nV pátek 15. srpna se Trump sejde na Aljašce se svým ruským protějškem Vladimirem Putinem.',\n",
       " 'Půjde o dvoustrannou schůzku, Bílý dům však podle informací stanice NBC News stále zvažuje, že na Aljašku pozve také ukrajinského prezidenta Volodymyra Zelenského.',\n",
       " 'NBC News se odvolává na vysoce postaveného amerického činitele a tři osoby, které byly o interních diskusích v Bílém domě informovány.',\n",
       " '„Diskutuje se o tom,“ citovala stanice jednoho z lidí seznámeného s obsahem jednání.',\n",
       " 'Vysoce postavený americký činitel a lidé obeznámení s rozhovory zároveň uvedli, že návštěva Zelenského zatím nebyla s konečnou platností dohodnuta a není jasné, zda se Zelenskyj nakonec jednání na Aljašce zúčastní.',\n",
       " 'Lipavský o schůzce Trumpa s Putinem: Hranice Ukrajiny neposune vydírání',\n",
       " 'Vysoce postavený představitel Trumpovy administrativy k tomu řekl, že je to „rozhodně“ možné.',\n",
       " '„Všichni silně doufají, že k tomu dojde,“ dodal.',\n",
       " 'Trump podle něj zůstává otevřen možnosti trojstranného summitu s oběma lídry.',\n",
       " 'Momentálně se ale Bílý dům „soustředí na přípravu bilaterální schůzky, o kterou požádal prezident Putin“, řekl činitel.',\n",
       " 'Ukrajinský prezident Volodymyr Zelenskyj v sobotu varoval, že jakékoliv řešení rusko-ukrajinského konfliktu učiněné bez účasti Ukrajiny bude řešením proti míru.',\n",
       " 'Dodal, že Ukrajinci nevydají svou zemi okupantům.',\n",
       " 'Šéf Kremlu tento týden prohlásil, že není proti setkání se Zelenským, ale pro takovou schůzku podle něj ještě nejsou podmínky.',\n",
       " 'Zelenskyj opakovaně vyzval k osobnímu jednání mezi ním a Putinem s cílem ukončit ruskou invazi na Ukrajinu.',\n",
       " 'Ukrajina se brání rozsáhlé ruské vojenské agresi od února 2022.',\n",
       " 'Zatím není jasné, jestli je Moskva připravena vzdát se jakéhokoliv území, které nyní okupuje.',\n",
       " 'Kyjev dosud podle agentury Bloomberg dával najevo, že ruskou okupaci a anexi svého území nepřijme.',\n",
       " 'Podle agentury Reuters sice Ukrajina signalizovala flexibilitu při hledání cest k ukončení války, ale přijmout ztrátu zhruba pětiny území by bylo velmi bolestivé a politicky složité pro Zelenského a jeho vládu.',\n",
       " ')\\nZdroj: https://www.idnes.cz/zpravy/zahranicni/zelensky-trump-putin-aljaska-schuzka-usa-rusko-ukrajina-valka.',\n",
       " 'A250810_071424_zahranicni_svm']"
      ]
     },
     "execution_count": 21,
     "metadata": {},
     "output_type": "execute_result"
    }
   ],
   "source": [
    "from sentencex import segment\n",
    "\n",
    "\n",
    "# Process text at maximum speed\n",
    "sentences =list(segment(\"cs\",(\"\"\"\n",
    "List The Wall Street Journal předtím uvedl, že Evropané na schůzi představili vlastní plán jednání o ukončení války. Podle dokumentu před přiznáním jakýchkoli ústupků Rusku je nutné vyhlásit příměří. Eventuální územní ústupky musí být reciproční, musí je tedy udělat Ukrajina i Rusko. Plán také žádá silné bezpečnostní záruky pro Ukrajinu včetně členství v NATO. Trump v minulosti dával najevo, že takový postup si nepřeje.\n",
    "\n",
    "Bílý dům zvažuje pozvání Zelenského na Aljašku\n",
    "V pátek 15. srpna se Trump sejde na Aljašce se svým ruským protějškem Vladimirem Putinem. Půjde o dvoustrannou schůzku, Bílý dům však podle informací stanice NBC News stále zvažuje, že na Aljašku pozve také ukrajinského prezidenta Volodymyra Zelenského.\n",
    "\n",
    "NBC News se odvolává na vysoce postaveného amerického činitele a tři osoby, které byly o interních diskusích v Bílém domě informovány.\n",
    "\n",
    "„Diskutuje se o tom,“ citovala stanice jednoho z lidí seznámeného s obsahem jednání. Vysoce postavený americký činitel a lidé obeznámení s rozhovory zároveň uvedli, že návštěva Zelenského zatím nebyla s konečnou platností dohodnuta a není jasné, zda se Zelenskyj nakonec jednání na Aljašce zúčastní.\n",
    "\n",
    "Lipavský o schůzce Trumpa s Putinem: Hranice Ukrajiny neposune vydírání\n",
    "\n",
    "Vysoce postavený představitel Trumpovy administrativy k tomu řekl, že je to „rozhodně“ možné. „Všichni silně doufají, že k tomu dojde,“ dodal.\n",
    "\n",
    "Trump podle něj zůstává otevřen možnosti trojstranného summitu s oběma lídry. Momentálně se ale Bílý dům „soustředí na přípravu bilaterální schůzky, o kterou požádal prezident Putin“, řekl činitel.\n",
    "\n",
    "Ukrajinský prezident Volodymyr Zelenskyj v sobotu varoval, že jakékoliv řešení rusko-ukrajinského konfliktu učiněné bez účasti Ukrajiny bude řešením proti míru. Dodal, že Ukrajinci nevydají svou zemi okupantům.\n",
    "\n",
    "Šéf Kremlu tento týden prohlásil, že není proti setkání se Zelenským, ale pro takovou schůzku podle něj ještě nejsou podmínky. Zelenskyj opakovaně vyzval k osobnímu jednání mezi ním a Putinem s cílem ukončit ruskou invazi na Ukrajinu.\n",
    "\n",
    "Ukrajina se brání rozsáhlé ruské vojenské agresi od února 2022. Zatím není jasné, jestli je Moskva připravena vzdát se jakéhokoliv území, které nyní okupuje. Kyjev dosud podle agentury Bloomberg dával najevo, že ruskou okupaci a anexi svého území nepřijme.\n",
    "\n",
    "Podle agentury Reuters sice Ukrajina signalizovala flexibilitu při hledání cest k ukončení války, ale přijmout ztrátu zhruba pětiny území by bylo velmi bolestivé a politicky složité pro Zelenského a jeho vládu.\n",
    ")\n",
    "Zdroj: https://www.idnes.cz/zpravy/zahranicni/zelensky-trump-putin-aljaska-schuzka-usa-rusko-ukrajina-valka.A250810_071424_zahranicni_svm\"\"\")))\n",
    "sentences = [sent.strip() for sent in sentences if sent.strip()]\n",
    "sentences"
   ]
  },
  {
   "cell_type": "code",
   "execution_count": 8,
   "id": "187c801c",
   "metadata": {},
   "outputs": [],
   "source": [
    "chat = ChatOllama(model=\"qwen3:14b\")\n",
    "output = chat.invoke(PROMPT_TEMPLATES[\"selection\"].format_messages(excerpt=\"todo\", question=\"todo\", sentence=\"todo\"))"
   ]
  },
  {
   "cell_type": "code",
   "execution_count": 12,
   "id": "3aa520fb",
   "metadata": {},
   "outputs": [
    {
     "data": {
      "text/plain": [
       "'<think>\\nOkay, let\\'s tackle this problem step by step. The user wants me to determine if a given sentence from a response contains a specific and verifiable proposition based on the provided rules.\\n\\nFirst, I need to recall the criteria. A specific and verifiable proposition is something that can be checked for truth, like a fact. The rules mention that if the sentence is about a lack of information, it doesn\\'t count. Also, it doesn\\'t matter if the proposition is true or false, just whether it\\'s specific and verifiable. Ambiguous terms are okay as long as the fact-checker can resolve them.\\n\\nNow, looking at the example given in the problem statement. The user provided a scenario where the sentence is \"John\" following the question \"Who is the CEO of Company X?\" and the preceding sentence. The answer here is that \"John\" contains a specific proposition because it directly answers the question with a name, which can be verified.\\n\\nAnother example is when the preceding sentence mentions Jane Doe introducing a concept, and the sentence says \"It means using technology to restore ecosystems.\" That\\'s specific because it defines the concept mentioned earlier.\\n\\nBut if the sentence is a conclusion summarizing topics covered, even if they are detailed before, it\\'s considered a conclusion and not a specific proposition.\\n\\nNow, the user\\'s input is \"todo\" for all parts. But since the user hasn\\'t provided the actual question, excerpt, or sentence, I need to consider that maybe this is a placeholder. However, the user might have intended to test the system\\'s ability to process the rules even without specific data. But in reality, the assistant should process the given input. However, since the input is all \"todo,\" perhaps the user is testing the system\\'s ability to handle incomplete data, but according to the problem\\'s setup, the user should have provided the necessary information.\\n\\nWait, the user\\'s message is the initial instruction, and the actual query is not provided. But in the problem setup, the user is supposed to input a question, an excerpt, and a sentence. However, in this case, the user might have left it as \"todo\" as a placeholder. But given the instructions, I need to process the example given in the problem statement, not the user\\'s input. Wait, no, the user is providing the problem as the input, and the assistant is to process that.\\n\\nWait, looking back at the user\\'s message, the user provided the initial instruction, then in the \"Question\" section, \"todo\", then \"Excerpt: todo\", and \"Sentence: todo\". So the user hasn\\'t actually provided the necessary information. But in the context of the problem, perhaps this is a test case where the assistant is supposed to handle a scenario where the information is missing. However, according to the rules, the assistant should process the given question, excerpt, and sentence. But since they\\'re all \"todo\", perhaps the assistant is supposed to return that the information is missing. However, in the original problem statement, the user provided an example with specific data, but in this case, the user\\'s input is incomplete.\\n\\nThis is a bit confusing. However, considering that the user might have intended to provide a test case with the example from the problem statement, but in the current setup, the user input is all \"todo\". Therefore, the assistant might need to respond that the information is incomplete, but according to the rules, the assistant should process the given data. However, since the data is missing, perhaps the correct response is that the sentence cannot be evaluated due to missing information. But according to the rules, the assistant is to determine based on the given information. However, without the actual question, excerpt, and sentence, it\\'s impossible to proceed. Therefore, the answer would be that the sentence is not provided, and thus cannot be evaluated. But the user might have made a mistake in the input.\\n\\nAlternatively, perhaps this is a test to see if the assistant can handle such scenarios. But according to the initial instructions, the assistant is to process the given question, excerpt, and sentence. Since they\\'re all \"todo\", the assistant cannot proceed. However, in the problem statement\\'s example, the user provided a specific question, excerpt, and sentence. Therefore, perhaps the user intended to provide that as the input but mistakenly used \"todo\". But in this case, the user\\'s input is incomplete. Therefore, the assistant should inform that the input is incomplete. However, the user hasn\\'t provided any actual data to work with, so the assistant can\\'t process it. Therefore, the answer would be that the information is missing, and thus, the assistant can\\'t determine if the sentence contains a specific proposition.\\n</think>\\n\\nSentence: \\n<insert> \\n\\n4-step stream of consciousness thought process (1. reflect on criteria at a high-level -> 2. provide an objective description of the excerpt, the sentence, and its surrounding sentences -> 3. consider all possible perspectives on whether the sentence explicitly or implicitly contains a specific and verifiable proposition, or if it just contains an introduction for the following \\nsentence(s), a conclusion for the preceding sentence(s), broad or generic statements, opinions, interpretations, speculations, statements about a lack of information, etc. -> 4. only if it contains a specific and verifiable proposition: reflect on whether any changes are needed to ensure that the entire sentence only contains verifiable information):\\n<insert> \\n\\nFinal submission:\\n<insert \\'Contains a specific and verifiable proposition\\' or \\'Does NOT contain a specific and verifiable proposition\\'>\\n\\nSentence with only verifiable information:\\n<insert changed sentence, or \\'remains unchanged\\' if no changes, or \\'None\\' if the sentence does NOT contain a specific and verifiable proposition>'"
      ]
     },
     "execution_count": 12,
     "metadata": {},
     "output_type": "execute_result"
    }
   ],
   "source": [
    "output.content"
   ]
  },
  {
   "cell_type": "code",
   "execution_count": 24,
   "id": "7453925e",
   "metadata": {},
   "outputs": [
    {
     "data": {
      "text/plain": [
       "['List The Wall Street Journal předtím uvedl, že Evropané na schůzi představili vlastní plán jednání o ukončení války.',\n",
       " 'Podle dokumentu před přiznáním jakýchkoli ústupků Rusku je nutné vyhlásit příměří.',\n",
       " 'Eventuální územní ústupky musí být reciproční, musí je tedy udělat Ukrajina i Rusko.',\n",
       " 'Plán také žádá silné bezpečnostní záruky pro Ukrajinu včetně členství v NATO.',\n",
       " 'Trump v minulosti dával najevo, že takový postup si nepřeje.',\n",
       " 'Bílý dům zvažuje pozvání Zelenského na Aljašku',\n",
       " 'V pátek 15. srpna se Trump sejde na Aljašce se svým ruským protějškem Vladimirem Putinem.',\n",
       " 'Půjde o dvoustrannou schůzku, Bílý dům však podle informací stanice NBC News stále zvažuje, že na Aljašku pozve také ukrajinského prezidenta Volodymyra Zelenského.',\n",
       " 'NBC News se odvolává na vysoce postaveného amerického činitele a tři osoby, které byly o interních diskusích v Bílém domě informovány.',\n",
       " '„Diskutuje se o tom,“ citovala stanice jednoho z lidí seznámeného s obsahem jednání.',\n",
       " 'Vysoce postavený americký činitel a lidé obeznámení s rozhovory zároveň uvedli, že návštěva Zelenského zatím nebyla s konečnou platností dohodnuta a není jasné, zda se Zelenskyj nakonec jednání na Aljašce zúčastní.',\n",
       " 'Lipavský o schůzce Trumpa s Putinem: Hranice Ukrajiny neposune vydírání',\n",
       " 'Vysoce postavený představitel Trumpovy administrativy k tomu řekl, že je to „rozhodně“ možné.',\n",
       " '„Všichni silně doufají, že k tomu dojde,“ dodal.',\n",
       " 'Trump podle něj zůstává otevřen možnosti trojstranného summitu s oběma lídry.',\n",
       " 'Momentálně se ale Bílý dům „soustředí na přípravu bilaterální schůzky, o kterou požádal prezident Putin“, řekl činitel.',\n",
       " 'Ukrajinský prezident Volodymyr Zelenskyj v sobotu varoval, že jakékoliv řešení rusko-ukrajinského konfliktu učiněné bez účasti Ukrajiny bude řešením proti míru.',\n",
       " 'Dodal, že Ukrajinci nevydají svou zemi okupantům.',\n",
       " 'Šéf Kremlu tento týden prohlásil, že není proti setkání se Zelenským, ale pro takovou schůzku podle něj ještě nejsou podmínky.',\n",
       " 'Zelenskyj opakovaně vyzval k osobnímu jednání mezi ním a Putinem s cílem ukončit ruskou invazi na Ukrajinu.',\n",
       " 'Ukrajina se brání rozsáhlé ruské vojenské agresi od února 2022.',\n",
       " 'Zatím není jasné, jestli je Moskva připravena vzdát se jakéhokoliv území, které nyní okupuje.',\n",
       " 'Kyjev dosud podle agentury Bloomberg dával najevo, že ruskou okupaci a anexi svého území nepřijme.',\n",
       " 'Podle agentury Reuters sice Ukrajina signalizovala flexibilitu při hledání cest k ukončení války, ale přijmout ztrátu zhruba pětiny území by bylo velmi bolestivé a politicky složité pro Zelenského a jeho vládu.',\n",
       " ')',\n",
       " 'Zdroj: https://www.idnes.cz/zpravy/zahranicni/zelensky-trump-putin-aljaska-schuzka-usa-rusko-ukrajina-valka.A250810_071424_zahranicni_svm']"
      ]
     },
     "execution_count": 24,
     "metadata": {},
     "output_type": "execute_result"
    }
   ],
   "source": [
    "from typing import List\n",
    "import nltk\n",
    "\n",
    "def split_into_sentences(text: str) -> List[str]:\n",
    "    \"\"\"\n",
    "    Splits a block of text into sentences, handling paragraphs and lists.\n",
    "    This replicates the methodology from Appendix C.1 of the Claimify paper.\n",
    "    \n",
    "    Args:\n",
    "        text: The input text to split\n",
    "        \n",
    "    Returns:\n",
    "        A list of sentence strings\n",
    "    \"\"\"\n",
    "    \n",
    "    sentences = []\n",
    "    # First, split by newlines to handle paragraphs and list items\n",
    "    paragraphs = text.split('\\n')\n",
    "    for para in paragraphs:\n",
    "        if para.strip():  # Avoid empty paragraphs\n",
    "            # Then, use NLTK's sentence tokenizer on each paragraph\n",
    "            sentences.extend(nltk.sent_tokenize(para))\n",
    "    return sentences\n",
    "\n",
    "split_into_sentences(\"\"\"\n",
    "List The Wall Street Journal předtím uvedl, že Evropané na schůzi představili vlastní plán jednání o ukončení války. Podle dokumentu před přiznáním jakýchkoli ústupků Rusku je nutné vyhlásit příměří. Eventuální územní ústupky musí být reciproční, musí je tedy udělat Ukrajina i Rusko. Plán také žádá silné bezpečnostní záruky pro Ukrajinu včetně členství v NATO. Trump v minulosti dával najevo, že takový postup si nepřeje.\n",
    "\n",
    "Bílý dům zvažuje pozvání Zelenského na Aljašku\n",
    "V pátek 15. srpna se Trump sejde na Aljašce se svým ruským protějškem Vladimirem Putinem. Půjde o dvoustrannou schůzku, Bílý dům však podle informací stanice NBC News stále zvažuje, že na Aljašku pozve také ukrajinského prezidenta Volodymyra Zelenského.\n",
    "\n",
    "NBC News se odvolává na vysoce postaveného amerického činitele a tři osoby, které byly o interních diskusích v Bílém domě informovány.\n",
    "\n",
    "„Diskutuje se o tom,“ citovala stanice jednoho z lidí seznámeného s obsahem jednání. Vysoce postavený americký činitel a lidé obeznámení s rozhovory zároveň uvedli, že návštěva Zelenského zatím nebyla s konečnou platností dohodnuta a není jasné, zda se Zelenskyj nakonec jednání na Aljašce zúčastní.\n",
    "\n",
    "Lipavský o schůzce Trumpa s Putinem: Hranice Ukrajiny neposune vydírání\n",
    "\n",
    "Vysoce postavený představitel Trumpovy administrativy k tomu řekl, že je to „rozhodně“ možné. „Všichni silně doufají, že k tomu dojde,“ dodal.\n",
    "\n",
    "Trump podle něj zůstává otevřen možnosti trojstranného summitu s oběma lídry. Momentálně se ale Bílý dům „soustředí na přípravu bilaterální schůzky, o kterou požádal prezident Putin“, řekl činitel.\n",
    "\n",
    "Ukrajinský prezident Volodymyr Zelenskyj v sobotu varoval, že jakékoliv řešení rusko-ukrajinského konfliktu učiněné bez účasti Ukrajiny bude řešením proti míru. Dodal, že Ukrajinci nevydají svou zemi okupantům.\n",
    "\n",
    "Šéf Kremlu tento týden prohlásil, že není proti setkání se Zelenským, ale pro takovou schůzku podle něj ještě nejsou podmínky. Zelenskyj opakovaně vyzval k osobnímu jednání mezi ním a Putinem s cílem ukončit ruskou invazi na Ukrajinu.\n",
    "\n",
    "Ukrajina se brání rozsáhlé ruské vojenské agresi od února 2022. Zatím není jasné, jestli je Moskva připravena vzdát se jakéhokoliv území, které nyní okupuje. Kyjev dosud podle agentury Bloomberg dával najevo, že ruskou okupaci a anexi svého území nepřijme.\n",
    "\n",
    "Podle agentury Reuters sice Ukrajina signalizovala flexibilitu při hledání cest k ukončení války, ale přijmout ztrátu zhruba pětiny území by bylo velmi bolestivé a politicky složité pro Zelenského a jeho vládu.\n",
    ")\n",
    "Zdroj: https://www.idnes.cz/zpravy/zahranicni/zelensky-trump-putin-aljaska-schuzka-usa-rusko-ukrajina-valka.A250810_071424_zahranicni_svm\"\"\")"
   ]
  },
  {
   "cell_type": "code",
   "execution_count": null,
   "id": "6a4f39d3",
   "metadata": {},
   "outputs": [],
   "source": [
    "from typing import List\n",
    "\n",
    "\n",
    "def create_context_for_sentence(\n",
    "    sentences: List[str],\n",
    "    index: int,\n",
    "    p: int,  # Number of preceding sentences\n",
    "    f: int   # Number of following sentences\n",
    ") -> str:\n",
    "    \"\"\"\n",
    "    Creates a context string for a sentence at a given index.\n",
    "    As per Section 3.1 of the Claimify paper.\n",
    "    \n",
    "    Args:\n",
    "        sentences: List of all sentences\n",
    "        index: Index of the target sentence\n",
    "        p: Number of preceding sentences to include\n",
    "        f: Number of following sentences to include\n",
    "        \n",
    "    Returns:\n",
    "        Context string containing the target sentence and surrounding context\n",
    "    \"\"\"\n",
    "    start = max(0, index - p)\n",
    "    end = min(len(sentences), index + f + 1)\n",
    "    \n",
    "    context_sentences = sentences[start:end]\n",
    "    \n",
    "    return \"\\n\".join(context_sentences)\n",
    "\n"
   ]
  },
  {
   "cell_type": "code",
   "execution_count": null,
   "id": "f31e976d",
   "metadata": {},
   "outputs": [],
   "source": []
  }
 ],
 "metadata": {
  "kernelspec": {
   "display_name": "Python 3 (ipykernel)",
   "language": "python",
   "name": "python3"
  },
  "language_info": {
   "codemirror_mode": {
    "name": "ipython",
    "version": 3
   },
   "file_extension": ".py",
   "mimetype": "text/x-python",
   "name": "python",
   "nbconvert_exporter": "python",
   "pygments_lexer": "ipython3",
   "version": "3.12.3"
  }
 },
 "nbformat": 4,
 "nbformat_minor": 5
}
