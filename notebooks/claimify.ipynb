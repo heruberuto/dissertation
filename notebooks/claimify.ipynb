{
 "cells": [
  {
   "cell_type": "markdown",
   "id": "e77902bd",
   "metadata": {},
   "source": [
    "# 💬 Claimify reproduction study"
   ]
  },
  {
   "cell_type": "code",
   "execution_count": 1,
   "id": "1663efac",
   "metadata": {},
   "outputs": [],
   "source": [
    "# autoreload imports\n",
    "%load_ext autoreload\n",
    "%autoreload 2"
   ]
  },
  {
   "cell_type": "code",
   "execution_count": 2,
   "id": "8540b8d2",
   "metadata": {},
   "outputs": [],
   "source": [
    "from utils.chat import load_md_prompts\n",
    "\n",
    "PROMPT_TEMPLATES = load_md_prompts(\"claimify\")"
   ]
  },
  {
   "cell_type": "markdown",
   "id": "00643476",
   "metadata": {},
   "source": [
    "## 1. Input Question and Answer"
   ]
  },
  {
   "cell_type": "code",
   "execution_count": 13,
   "id": "064c8039",
   "metadata": {},
   "outputs": [
    {
     "name": "stdout",
     "output_type": "stream",
     "text": [
      "Collecting charboundary[numpy,onnx]\n",
      "  Downloading charboundary-0.5.0-py3-none-any.whl.metadata (28 kB)\n",
      "Requirement already satisfied: scikit-learn>=1.3.0 in /mnt/personal/ullriher/venvs/aug25/lib/python3.12/site-packages (from charboundary[numpy,onnx]) (1.7.1)\n",
      "Requirement already satisfied: tqdm>=4.67.1 in /mnt/personal/ullriher/venvs/aug25/lib/python3.12/site-packages (from charboundary[numpy,onnx]) (4.67.1)\n",
      "Collecting skops>=0.9.0 (from charboundary[numpy,onnx])\n",
      "  Downloading skops-0.13.0-py3-none-any.whl.metadata (5.6 kB)\n",
      "Requirement already satisfied: numpy>=1.23.0 in /mnt/personal/ullriher/venvs/aug25/lib/python3.12/site-packages (from charboundary[numpy,onnx]) (1.26.4)\n",
      "Collecting onnx>=1.15.0 (from charboundary[numpy,onnx])\n",
      "  Downloading onnx-1.18.0-cp312-cp312-manylinux_2_17_x86_64.manylinux2014_x86_64.whl.metadata (6.9 kB)\n",
      "Collecting skl2onnx>=1.16.0 (from charboundary[numpy,onnx])\n",
      "  Downloading skl2onnx-1.19.1-py3-none-any.whl.metadata (3.8 kB)\n",
      "Collecting onnxruntime>=1.16.0 (from charboundary[numpy,onnx])\n",
      "  Downloading onnxruntime-1.22.1-cp312-cp312-manylinux_2_27_x86_64.manylinux_2_28_x86_64.whl.metadata (4.9 kB)\n",
      "Requirement already satisfied: protobuf>=4.25.1 in /mnt/personal/ullriher/venvs/aug25/lib/python3.12/site-packages (from onnx>=1.15.0->charboundary[numpy,onnx]) (6.31.1)\n",
      "Requirement already satisfied: typing_extensions>=4.7.1 in /mnt/personal/ullriher/venvs/aug25/lib/python3.12/site-packages (from onnx>=1.15.0->charboundary[numpy,onnx]) (4.14.1)\n",
      "Collecting coloredlogs (from onnxruntime>=1.16.0->charboundary[numpy,onnx])\n",
      "  Downloading coloredlogs-15.0.1-py2.py3-none-any.whl.metadata (12 kB)\n",
      "Collecting flatbuffers (from onnxruntime>=1.16.0->charboundary[numpy,onnx])\n",
      "  Downloading flatbuffers-25.2.10-py2.py3-none-any.whl.metadata (875 bytes)\n",
      "Requirement already satisfied: packaging in /mnt/personal/ullriher/venvs/aug25/lib/python3.12/site-packages (from onnxruntime>=1.16.0->charboundary[numpy,onnx]) (25.0)\n",
      "Requirement already satisfied: sympy in /mnt/personal/ullriher/venvs/aug25/lib/python3.12/site-packages (from onnxruntime>=1.16.0->charboundary[numpy,onnx]) (1.14.0)\n",
      "Requirement already satisfied: scipy>=1.8.0 in /mnt/personal/ullriher/venvs/aug25/lib/python3.12/site-packages (from scikit-learn>=1.3.0->charboundary[numpy,onnx]) (1.16.1)\n",
      "Requirement already satisfied: joblib>=1.2.0 in /mnt/personal/ullriher/venvs/aug25/lib/python3.12/site-packages (from scikit-learn>=1.3.0->charboundary[numpy,onnx]) (1.5.1)\n",
      "Requirement already satisfied: threadpoolctl>=3.1.0 in /mnt/personal/ullriher/venvs/aug25/lib/python3.12/site-packages (from scikit-learn>=1.3.0->charboundary[numpy,onnx]) (3.6.0)\n",
      "Collecting prettytable>=3.9 (from skops>=0.9.0->charboundary[numpy,onnx])\n",
      "  Downloading prettytable-3.16.0-py3-none-any.whl.metadata (33 kB)\n",
      "Requirement already satisfied: wcwidth in /mnt/personal/ullriher/venvs/aug25/lib/python3.12/site-packages (from prettytable>=3.9->skops>=0.9.0->charboundary[numpy,onnx]) (0.2.13)\n",
      "Collecting humanfriendly>=9.1 (from coloredlogs->onnxruntime>=1.16.0->charboundary[numpy,onnx])\n",
      "  Downloading humanfriendly-10.0-py2.py3-none-any.whl.metadata (9.2 kB)\n",
      "Requirement already satisfied: mpmath<1.4,>=1.1.0 in /mnt/personal/ullriher/venvs/aug25/lib/python3.12/site-packages (from sympy->onnxruntime>=1.16.0->charboundary[numpy,onnx]) (1.3.0)\n",
      "Downloading charboundary-0.5.0-py3-none-any.whl (3.7 MB)\n",
      "\u001b[2K   \u001b[38;2;114;156;31m━━━━━━━━━━━━━━━━━━━━━━━━━━━━━━━━━━━━━━━━\u001b[0m \u001b[32m3.7/3.7 MB\u001b[0m \u001b[31m8.3 MB/s\u001b[0m  \u001b[33m0:00:00\u001b[0m10.4 MB/s\u001b[0m eta \u001b[36m0:00:01\u001b[0m:01\u001b[0m\n",
      "\u001b[?25hDownloading onnx-1.18.0-cp312-cp312-manylinux_2_17_x86_64.manylinux2014_x86_64.whl (17.6 MB)\n",
      "\u001b[2K   \u001b[38;2;114;156;31m━━━━━━━━━━━━━━━━━━━━━━━━━━━━━━━━━━━━━━━━\u001b[0m \u001b[32m17.6/17.6 MB\u001b[0m \u001b[31m12.0 MB/s\u001b[0m  \u001b[33m0:00:01\u001b[0m\u001b[0m eta \u001b[36m0:00:01\u001b[0m[36m0:00:01\u001b[0m\n",
      "\u001b[?25hDownloading onnxruntime-1.22.1-cp312-cp312-manylinux_2_27_x86_64.manylinux_2_28_x86_64.whl (16.5 MB)\n",
      "\u001b[2K   \u001b[38;2;114;156;31m━━━━━━━━━━━━━━━━━━━━━━━━━━━━━━━━━━━━━━━━\u001b[0m \u001b[32m16.5/16.5 MB\u001b[0m \u001b[31m55.7 MB/s\u001b[0m  \u001b[33m0:00:00\u001b[0m \u001b[31m52.4 MB/s\u001b[0m eta \u001b[36m0:00:01\u001b[0m\n",
      "\u001b[?25hDownloading skl2onnx-1.19.1-py3-none-any.whl (315 kB)\n",
      "Downloading skops-0.13.0-py3-none-any.whl (131 kB)\n",
      "Downloading prettytable-3.16.0-py3-none-any.whl (33 kB)\n",
      "Downloading coloredlogs-15.0.1-py2.py3-none-any.whl (46 kB)\n",
      "Downloading humanfriendly-10.0-py2.py3-none-any.whl (86 kB)\n",
      "Downloading flatbuffers-25.2.10-py2.py3-none-any.whl (30 kB)\n",
      "Installing collected packages: flatbuffers, prettytable, onnx, humanfriendly, coloredlogs, skops, skl2onnx, onnxruntime, charboundary\n",
      "\u001b[2K   \u001b[38;2;114;156;31m━━━━━━━━━━━━━━━━━━━━━━━━━━━━━━━━━━━━━━━━\u001b[0m \u001b[32m9/9\u001b[0m [charboundary]m━━━━\u001b[0m \u001b[32m8/9\u001b[0m [charboundary]\n",
      "\u001b[1A\u001b[2KSuccessfully installed charboundary-0.5.0 coloredlogs-15.0.1 flatbuffers-25.2.10 humanfriendly-10.0 onnx-1.18.0 onnxruntime-1.22.1 prettytable-3.16.0 skl2onnx-1.19.1 skops-0.13.0\n",
      "Note: you may need to restart the kernel to use updated packages.\n"
     ]
    }
   ],
   "source": [
    "%pip install charboundary[numpy,onnx]"
   ]
  },
  {
   "cell_type": "code",
   "execution_count": 27,
   "id": "e39540ef",
   "metadata": {},
   "outputs": [
    {
     "data": {
      "text/plain": [
       "AIMessage(content='Sentence: \\n<>\\n\\n4-step stream of consciousness thought process (1. reflect on criteria at a high-level -> 2. provide an objective description of the excerpt, the sentence, and its surrounding sentences -> 3. consider all possible perspectives on whether the sentence explicitly or implicitly contains a specific and verifiable proposition, or if it just contains an introduction for the following \\nsentence(s), a conclusion for the preceding sentence(s), broad or generic statements, opinions, interpretations, speculations, statements about a lack of information, etc. -> 4. only if it contains a specific and verifiable proposition: reflect on whether any changes are needed to ensure that the entire sentence only contains verifiable information):\\n1) A sentence must assert at least one checkable claim to qualify; absence of content cannot contain a proposition. 2) The provided \"Sentence\" field is empty, and no surrounding context is given. 3) An empty sentence cannot explicitly or implicitly contain a specific, verifiable proposition; it conveys no claim. 4) Not applicable since there is no proposition to rewrite.\\n\\nFinal submission:\\nDoes NOT contain a specific and verifiable proposition\\n\\nSentence with only verifiable information:\\nNone', additional_kwargs={'refusal': None}, response_metadata={'token_usage': {'completion_tokens': 825, 'prompt_tokens': 1224, 'total_tokens': 2049, 'completion_tokens_details': {'accepted_prediction_tokens': 0, 'audio_tokens': 0, 'reasoning_tokens': 576, 'rejected_prediction_tokens': 0}, 'prompt_tokens_details': {'audio_tokens': 0, 'cached_tokens': 0}}, 'model_name': 'gpt-5-2025-08-07', 'system_fingerprint': None, 'id': 'chatcmpl-C2wxkSiTsyBCSlIznfsM2Zuri5mGk', 'service_tier': 'default', 'finish_reason': 'stop', 'logprobs': None}, id='run--bfafa05e-0673-45d1-93bf-c9850796e485-0', usage_metadata={'input_tokens': 1224, 'output_tokens': 825, 'total_tokens': 2049, 'input_token_details': {'audio': 0, 'cache_read': 0}, 'output_token_details': {'audio': 0, 'reasoning': 576}})"
      ]
     },
     "execution_count": 27,
     "metadata": {},
     "output_type": "execute_result"
    }
   ],
   "source": [
    "# basic chatprompttemplate llm chat with gpt-5 using 'selection' prompt template\n",
    "from langchain_core.prompts import ChatPromptTemplate\n",
    "from langchain_openai import ChatOpenAI\n",
    "from langchain_ollama import ChatOllama\n",
    "\n",
    "import ssl\n",
    "import certifi\n",
    "\n",
    "chat = ChatOpenAI(model=\"gpt-5\")\n",
    "excerpt = \"\"\"\"\"\"\n",
    "question = \"\"\"\"\"\"\n",
    "sentence = \"\"\"\"\"\"\n",
    "chat.invoke(PROMPT_TEMPLATES[\"selection\"].format_messages(excerpt=excerpt, question=question, sentence=sentence))"
   ]
  },
  {
   "cell_type": "code",
   "execution_count": null,
   "id": "f855d18c",
   "metadata": {},
   "outputs": [],
   "source": [
    "from utils.claimify import SelectionResponse"
   ]
  },
  {
   "cell_type": "code",
   "execution_count": 8,
   "id": "187c801c",
   "metadata": {},
   "outputs": [],
   "source": [
    "chat = ChatOllama(model=\"qwen3:14b\")\n",
    "output = chat.invoke(PROMPT_TEMPLATES[\"selection\"].format_messages(excerpt=\"todo\", question=\"todo\", sentence=\"todo\"))"
   ]
  },
  {
   "cell_type": "code",
   "execution_count": 12,
   "id": "3aa520fb",
   "metadata": {},
   "outputs": [
    {
     "data": {
      "text/plain": [
       "'<think>\\nOkay, let\\'s tackle this problem step by step. The user wants me to determine if a given sentence from a response contains a specific and verifiable proposition based on the provided rules.\\n\\nFirst, I need to recall the criteria. A specific and verifiable proposition is something that can be checked for truth, like a fact. The rules mention that if the sentence is about a lack of information, it doesn\\'t count. Also, it doesn\\'t matter if the proposition is true or false, just whether it\\'s specific and verifiable. Ambiguous terms are okay as long as the fact-checker can resolve them.\\n\\nNow, looking at the example given in the problem statement. The user provided a scenario where the sentence is \"John\" following the question \"Who is the CEO of Company X?\" and the preceding sentence. The answer here is that \"John\" contains a specific proposition because it directly answers the question with a name, which can be verified.\\n\\nAnother example is when the preceding sentence mentions Jane Doe introducing a concept, and the sentence says \"It means using technology to restore ecosystems.\" That\\'s specific because it defines the concept mentioned earlier.\\n\\nBut if the sentence is a conclusion summarizing topics covered, even if they are detailed before, it\\'s considered a conclusion and not a specific proposition.\\n\\nNow, the user\\'s input is \"todo\" for all parts. But since the user hasn\\'t provided the actual question, excerpt, or sentence, I need to consider that maybe this is a placeholder. However, the user might have intended to test the system\\'s ability to process the rules even without specific data. But in reality, the assistant should process the given input. However, since the input is all \"todo,\" perhaps the user is testing the system\\'s ability to handle incomplete data, but according to the problem\\'s setup, the user should have provided the necessary information.\\n\\nWait, the user\\'s message is the initial instruction, and the actual query is not provided. But in the problem setup, the user is supposed to input a question, an excerpt, and a sentence. However, in this case, the user might have left it as \"todo\" as a placeholder. But given the instructions, I need to process the example given in the problem statement, not the user\\'s input. Wait, no, the user is providing the problem as the input, and the assistant is to process that.\\n\\nWait, looking back at the user\\'s message, the user provided the initial instruction, then in the \"Question\" section, \"todo\", then \"Excerpt: todo\", and \"Sentence: todo\". So the user hasn\\'t actually provided the necessary information. But in the context of the problem, perhaps this is a test case where the assistant is supposed to handle a scenario where the information is missing. However, according to the rules, the assistant should process the given question, excerpt, and sentence. But since they\\'re all \"todo\", perhaps the assistant is supposed to return that the information is missing. However, in the original problem statement, the user provided an example with specific data, but in this case, the user\\'s input is incomplete.\\n\\nThis is a bit confusing. However, considering that the user might have intended to provide a test case with the example from the problem statement, but in the current setup, the user input is all \"todo\". Therefore, the assistant might need to respond that the information is incomplete, but according to the rules, the assistant should process the given data. However, since the data is missing, perhaps the correct response is that the sentence cannot be evaluated due to missing information. But according to the rules, the assistant is to determine based on the given information. However, without the actual question, excerpt, and sentence, it\\'s impossible to proceed. Therefore, the answer would be that the sentence is not provided, and thus cannot be evaluated. But the user might have made a mistake in the input.\\n\\nAlternatively, perhaps this is a test to see if the assistant can handle such scenarios. But according to the initial instructions, the assistant is to process the given question, excerpt, and sentence. Since they\\'re all \"todo\", the assistant cannot proceed. However, in the problem statement\\'s example, the user provided a specific question, excerpt, and sentence. Therefore, perhaps the user intended to provide that as the input but mistakenly used \"todo\". But in this case, the user\\'s input is incomplete. Therefore, the assistant should inform that the input is incomplete. However, the user hasn\\'t provided any actual data to work with, so the assistant can\\'t process it. Therefore, the answer would be that the information is missing, and thus, the assistant can\\'t determine if the sentence contains a specific proposition.\\n</think>\\n\\nSentence: \\n<insert> \\n\\n4-step stream of consciousness thought process (1. reflect on criteria at a high-level -> 2. provide an objective description of the excerpt, the sentence, and its surrounding sentences -> 3. consider all possible perspectives on whether the sentence explicitly or implicitly contains a specific and verifiable proposition, or if it just contains an introduction for the following \\nsentence(s), a conclusion for the preceding sentence(s), broad or generic statements, opinions, interpretations, speculations, statements about a lack of information, etc. -> 4. only if it contains a specific and verifiable proposition: reflect on whether any changes are needed to ensure that the entire sentence only contains verifiable information):\\n<insert> \\n\\nFinal submission:\\n<insert \\'Contains a specific and verifiable proposition\\' or \\'Does NOT contain a specific and verifiable proposition\\'>\\n\\nSentence with only verifiable information:\\n<insert changed sentence, or \\'remains unchanged\\' if no changes, or \\'None\\' if the sentence does NOT contain a specific and verifiable proposition>'"
      ]
     },
     "execution_count": 12,
     "metadata": {},
     "output_type": "execute_result"
    }
   ],
   "source": [
    "output.content"
   ]
  },
  {
   "cell_type": "code",
   "execution_count": 24,
   "id": "7453925e",
   "metadata": {},
   "outputs": [
    {
     "data": {
      "text/plain": [
       "['List The Wall Street Journal předtím uvedl, že Evropané na schůzi představili vlastní plán jednání o ukončení války.',\n",
       " 'Podle dokumentu před přiznáním jakýchkoli ústupků Rusku je nutné vyhlásit příměří.',\n",
       " 'Eventuální územní ústupky musí být reciproční, musí je tedy udělat Ukrajina i Rusko.',\n",
       " 'Plán také žádá silné bezpečnostní záruky pro Ukrajinu včetně členství v NATO.',\n",
       " 'Trump v minulosti dával najevo, že takový postup si nepřeje.',\n",
       " 'Bílý dům zvažuje pozvání Zelenského na Aljašku',\n",
       " 'V pátek 15. srpna se Trump sejde na Aljašce se svým ruským protějškem Vladimirem Putinem.',\n",
       " 'Půjde o dvoustrannou schůzku, Bílý dům však podle informací stanice NBC News stále zvažuje, že na Aljašku pozve také ukrajinského prezidenta Volodymyra Zelenského.',\n",
       " 'NBC News se odvolává na vysoce postaveného amerického činitele a tři osoby, které byly o interních diskusích v Bílém domě informovány.',\n",
       " '„Diskutuje se o tom,“ citovala stanice jednoho z lidí seznámeného s obsahem jednání.',\n",
       " 'Vysoce postavený americký činitel a lidé obeznámení s rozhovory zároveň uvedli, že návštěva Zelenského zatím nebyla s konečnou platností dohodnuta a není jasné, zda se Zelenskyj nakonec jednání na Aljašce zúčastní.',\n",
       " 'Lipavský o schůzce Trumpa s Putinem: Hranice Ukrajiny neposune vydírání',\n",
       " 'Vysoce postavený představitel Trumpovy administrativy k tomu řekl, že je to „rozhodně“ možné.',\n",
       " '„Všichni silně doufají, že k tomu dojde,“ dodal.',\n",
       " 'Trump podle něj zůstává otevřen možnosti trojstranného summitu s oběma lídry.',\n",
       " 'Momentálně se ale Bílý dům „soustředí na přípravu bilaterální schůzky, o kterou požádal prezident Putin“, řekl činitel.',\n",
       " 'Ukrajinský prezident Volodymyr Zelenskyj v sobotu varoval, že jakékoliv řešení rusko-ukrajinského konfliktu učiněné bez účasti Ukrajiny bude řešením proti míru.',\n",
       " 'Dodal, že Ukrajinci nevydají svou zemi okupantům.',\n",
       " 'Šéf Kremlu tento týden prohlásil, že není proti setkání se Zelenským, ale pro takovou schůzku podle něj ještě nejsou podmínky.',\n",
       " 'Zelenskyj opakovaně vyzval k osobnímu jednání mezi ním a Putinem s cílem ukončit ruskou invazi na Ukrajinu.',\n",
       " 'Ukrajina se brání rozsáhlé ruské vojenské agresi od února 2022.',\n",
       " 'Zatím není jasné, jestli je Moskva připravena vzdát se jakéhokoliv území, které nyní okupuje.',\n",
       " 'Kyjev dosud podle agentury Bloomberg dával najevo, že ruskou okupaci a anexi svého území nepřijme.',\n",
       " 'Podle agentury Reuters sice Ukrajina signalizovala flexibilitu při hledání cest k ukončení války, ale přijmout ztrátu zhruba pětiny území by bylo velmi bolestivé a politicky složité pro Zelenského a jeho vládu.',\n",
       " ')',\n",
       " 'Zdroj: https://www.idnes.cz/zpravy/zahranicni/zelensky-trump-putin-aljaska-schuzka-usa-rusko-ukrajina-valka.A250810_071424_zahranicni_svm']"
      ]
     },
     "execution_count": 24,
     "metadata": {},
     "output_type": "execute_result"
    }
   ],
   "source": [
    "from typing import List\n",
    "import nltk\n",
    "\n",
    "def split_into_sentences(text: str) -> List[str]:\n",
    "    \"\"\"\n",
    "    Splits a block of text into sentences, handling paragraphs and lists.\n",
    "    This replicates the methodology from Appendix C.1 of the Claimify paper.\n",
    "    \n",
    "    Args:\n",
    "        text: The input text to split\n",
    "        \n",
    "    Returns:\n",
    "        A list of sentence strings\n",
    "    \"\"\"\n",
    "    \n",
    "    sentences = []\n",
    "    # First, split by newlines to handle paragraphs and list items\n",
    "    paragraphs = text.split('\\n')\n",
    "    for para in paragraphs:\n",
    "        if para.strip():  # Avoid empty paragraphs\n",
    "            # Then, use NLTK's sentence tokenizer on each paragraph\n",
    "            sentences.extend(nltk.sent_tokenize(para))\n",
    "    return sentences\n",
    "\n",
    "split_into_sentences(\"\"\"\n",
    "List The Wall Street Journal předtím uvedl, že Evropané na schůzi představili vlastní plán jednání o ukončení války. Podle dokumentu před přiznáním jakýchkoli ústupků Rusku je nutné vyhlásit příměří. Eventuální územní ústupky musí být reciproční, musí je tedy udělat Ukrajina i Rusko. Plán také žádá silné bezpečnostní záruky pro Ukrajinu včetně členství v NATO. Trump v minulosti dával najevo, že takový postup si nepřeje.\n",
    "\n",
    "Bílý dům zvažuje pozvání Zelenského na Aljašku\n",
    "V pátek 15. srpna se Trump sejde na Aljašce se svým ruským protějškem Vladimirem Putinem. Půjde o dvoustrannou schůzku, Bílý dům však podle informací stanice NBC News stále zvažuje, že na Aljašku pozve také ukrajinského prezidenta Volodymyra Zelenského.\n",
    "\n",
    "NBC News se odvolává na vysoce postaveného amerického činitele a tři osoby, které byly o interních diskusích v Bílém domě informovány.\n",
    "\n",
    "„Diskutuje se o tom,“ citovala stanice jednoho z lidí seznámeného s obsahem jednání. Vysoce postavený americký činitel a lidé obeznámení s rozhovory zároveň uvedli, že návštěva Zelenského zatím nebyla s konečnou platností dohodnuta a není jasné, zda se Zelenskyj nakonec jednání na Aljašce zúčastní.\n",
    "\n",
    "Lipavský o schůzce Trumpa s Putinem: Hranice Ukrajiny neposune vydírání\n",
    "\n",
    "Vysoce postavený představitel Trumpovy administrativy k tomu řekl, že je to „rozhodně“ možné. „Všichni silně doufají, že k tomu dojde,“ dodal.\n",
    "\n",
    "Trump podle něj zůstává otevřen možnosti trojstranného summitu s oběma lídry. Momentálně se ale Bílý dům „soustředí na přípravu bilaterální schůzky, o kterou požádal prezident Putin“, řekl činitel.\n",
    "\n",
    "Ukrajinský prezident Volodymyr Zelenskyj v sobotu varoval, že jakékoliv řešení rusko-ukrajinského konfliktu učiněné bez účasti Ukrajiny bude řešením proti míru. Dodal, že Ukrajinci nevydají svou zemi okupantům.\n",
    "\n",
    "Šéf Kremlu tento týden prohlásil, že není proti setkání se Zelenským, ale pro takovou schůzku podle něj ještě nejsou podmínky. Zelenskyj opakovaně vyzval k osobnímu jednání mezi ním a Putinem s cílem ukončit ruskou invazi na Ukrajinu.\n",
    "\n",
    "Ukrajina se brání rozsáhlé ruské vojenské agresi od února 2022. Zatím není jasné, jestli je Moskva připravena vzdát se jakéhokoliv území, které nyní okupuje. Kyjev dosud podle agentury Bloomberg dával najevo, že ruskou okupaci a anexi svého území nepřijme.\n",
    "\n",
    "Podle agentury Reuters sice Ukrajina signalizovala flexibilitu při hledání cest k ukončení války, ale přijmout ztrátu zhruba pětiny území by bylo velmi bolestivé a politicky složité pro Zelenského a jeho vládu.\n",
    ")\n",
    "Zdroj: https://www.idnes.cz/zpravy/zahranicni/zelensky-trump-putin-aljaska-schuzka-usa-rusko-ukrajina-valka.A250810_071424_zahranicni_svm\"\"\")"
   ]
  },
  {
   "cell_type": "code",
   "execution_count": 42,
   "id": "f31e976d",
   "metadata": {},
   "outputs": [
    {
     "name": "stderr",
     "output_type": "stream",
     "text": [
      "2025-08-10 12:00:50,320 - claimify.pipeline - INFO - Structured outputs enabled for improved reliability\n"
     ]
    }
   ],
   "source": [
    "from utils.claimify import ClaimifyPipeline\n",
    "from utils.chat import chat_factory\n",
    "\n",
    "pipeline = ClaimifyPipeline(chat_factory(\"gpt-5-mini\"))"
   ]
  },
  {
   "cell_type": "code",
   "execution_count": 43,
   "id": "80236d90",
   "metadata": {},
   "outputs": [],
   "source": [
    "article = \"\"\"European allies have rallied behind Ukraine in a renewed surge of support, insisting that any peace talks with Russia must include Kyiv.\n",
    "\n",
    "A joint statement issued by the leaders of the UK, France, Italy, Germany, Poland, Finland and the European Commission came ahead of US President Donald Trump's meeting with his Russian counterpart Vladimir Putin in Alaska on Friday.\n",
    "\n",
    "A White House official has said that Trump is willing to hold a trilateral meeting which would also include Ukrainian President Volodymyr Zelensky, but, for now, it remains a Trump-Putin summit, as initially requested by the Russian leader.\n",
    "\n",
    "Zelensky has said any agreements without Kyiv will amount to \"dead decisions\".\n",
    "\n",
    "Trump has previously suggested that he could start by meeting only with Putin, telling reporters he planned to \"start off with Russia.\" But the US president also said that he believed \"we have a shot at\" organising a trilateral meeting with both Putin and Zelensky.\n",
    "\n",
    "Whether Putin would agree to this is unclear - he has refused several opportunities to hold direct talks, and the two leaders have not met face-to-face since Putin launched a full-scale invasion of Ukraine more than three years ago.\n",
    "\n",
    "Speaking on Friday, Trump also suggested that there \"will be some swapping of territories\" in order for Moscow and Kyiv to reach an agreement - to which Zelensky reacted strongly.\n",
    "\n",
    "\"We will not reward Russia for what it has perpetrated,\" he said on Telegram. \"Any decisions against us, any decisions without Ukraine, are also decisions against peace.\"\n",
    "\n",
    "\"The Russians... still impose the idea of 'exchanging' Ukrainian territory for Ukrainian territory, with consequences that guarantee nothing but more convenient positions for the Russians to resume the war,\" he added defiantly.\n",
    "\n",
    "CBS, the BBC's US media partner, has reported that the White House is trying to sway European allies to accept an agreement that would include Russia taking the entire Donbas region in eastern Ukraine, and keeping the Crimean Peninsula.\n",
    "\n",
    "The European leaders, in their statement released late on Saturday night, stressed that \"international borders must not be changed by force\".\n",
    "\n",
    "\"Ukraine has the freedom of choice over its own destiny,\" they said, stressing that their nations would continue to support Ukraine diplomatically, militarily and financially.\n",
    "\n",
    "More on the war in Ukraine\n",
    "Ukraine in maps: Tracking the war with Russia\n",
    "Russian attacks on Ukraine double since Trump inauguration\n",
    "On Ukraine's front line, twisted wreckage shows sanctions haven't yet stopped Russia\n",
    "The leaders also said that a \"diplomatic solution\" is critical, not just to protect Ukraine - but also Europe's security.\n",
    "\n",
    "It's not just Ukraine that is struggling to be part of the Alaska meeting.\n",
    "\n",
    "European allies are also worried about their lack of influence over the outcome of any agreement that Trump could reach with Putin.\n",
    "\n",
    "In a post on X on Saturday, French President Emmanuel Macron raised concerns about Russia and the US excluding European involvement.\n",
    "\n",
    "\"Europeans will also necessarily be part of the solution, as their own security is at stake,\" he wrote.\n",
    "\n",
    "On Sunday, Zelensky thanked the allies for their support.\n",
    "\n",
    "\"The end of the war must be fair, and I am grateful to everyone who stands with Ukraine and our people today for the sake of peace in Ukraine, which is defending the vital security interests of our European nations,\" he said.\n",
    "\n",
    "Europe has taken a tough approach to Moscow - including imposing sanctions against Russian entities and providing military aid for Ukraine.\n",
    "\n",
    "Zelensky said he told Macron in a phone call on Saturday that the key was to make sure \"the Russians do not get to deceive anyone again\".\n",
    "\n",
    "\"We all need a genuine end to the war and reliable security foundations for Ukraine and other European nations,\" the Ukrainian leader said.\n",
    "\n",
    "UK government handout From left to right: Secretary of the National Security and Defence Council of Ukraine, UK Foreign Secretary David Lammy, US Vice-President JD Vance and Andriy Yermak, Zelensky's chief of staffUK government handout\n",
    "David Lammy and JD Vance hosted Zelensky's top aides on Saturday\n",
    "US diplomacy with Europe and Ukraine fell to Vice-President JD Vance on Saturday, when he visited the UK and held talks with Foreign Secretary David Lammy as well as two of Zelensky's top aides.\n",
    "\n",
    "Thanking Vance for the discussions, Andriy Yermak, the head of Zelensky's office, stressed the need for Ukraine to be included.\n",
    "\n",
    "\"A reliable, lasting peace is only possible with Ukraine at the negotiating table,\" he said. \"A ceasefire is necessary - but the frontline is not a border.\"\n",
    "\n",
    "The summit in Alaska, the territory which Russia sold to the US in 1867, would be the first between sitting US and Russian presidents, since Joe Biden met Putin in Geneva in June 2021.\n",
    "\n",
    "Nine months later, Moscow sent troops into Ukraine.\n",
    "\n",
    "In 2022, the Kremlin announced the annexation of four Ukrainian regions - Donetsk, Lugansk, Zaporizhzhia and Kherson - despite not having full control over them.\n",
    "\n",
    "Moscow has failed to achieve a decisive breakthrough in its full-scale invasion, but occupies large swathes of Ukraine's eastern territory. Ukrainian offensives, meanwhile, have not been able to push the Russian forces back.\"\"\""
   ]
  },
  {
   "cell_type": "code",
   "execution_count": 44,
   "id": "9d8432a7",
   "metadata": {},
   "outputs": [
    {
     "name": "stderr",
     "output_type": "stream",
     "text": [
      "2025-08-10 12:00:56,157 - claimify.pipeline - INFO - Processing 39 sentences\n",
      "2025-08-10 12:00:56,158 - claimify.pipeline - INFO - Processing sentence 1/39: European allies have rallied behind Ukraine in a renewed surge of support, insisting that any peace ...\n",
      "2025-08-10 12:01:05,038 - claimify.pipeline - INFO - SELECTION: Sentence verifiable\n"
     ]
    },
    {
     "ename": "AttributeError",
     "evalue": "'NoneType' object has no attribute 'format_messages'",
     "output_type": "error",
     "traceback": [
      "\u001b[31m---------------------------------------------------------------------------\u001b[39m",
      "\u001b[31mAttributeError\u001b[39m                            Traceback (most recent call last)",
      "\u001b[36mCell\u001b[39m\u001b[36m \u001b[39m\u001b[32mIn[44]\u001b[39m\u001b[32m, line 1\u001b[39m\n\u001b[32m----> \u001b[39m\u001b[32m1\u001b[39m \u001b[43mpipeline\u001b[49m\u001b[43m.\u001b[49m\u001b[43mrun\u001b[49m\u001b[43m(\u001b[49m\u001b[43marticle\u001b[49m\u001b[43m)\u001b[49m\n",
      "\u001b[36mFile \u001b[39m\u001b[32m/mnt/personal/ullriher/dissertation/src/utils/claimify.py:381\u001b[39m, in \u001b[36mClaimifyPipeline.run\u001b[39m\u001b[34m(self, text_to_process)\u001b[39m\n\u001b[32m    378\u001b[39m     \u001b[38;5;28;01mcontinue\u001b[39;00m\n\u001b[32m    380\u001b[39m \u001b[38;5;66;03m# Stage 3: Disambiguation\u001b[39;00m\n\u001b[32m--> \u001b[39m\u001b[32m381\u001b[39m disambiguation_status, clarified_sentence = \u001b[43mrun_disambiguation_stage\u001b[49m\u001b[43m(\u001b[49m\n\u001b[32m    382\u001b[39m \u001b[43m    \u001b[49m\u001b[38;5;28;43mself\u001b[39;49m\u001b[43m.\u001b[49m\u001b[43mchat_disambiguation\u001b[49m\u001b[43m,\u001b[49m\u001b[43m \u001b[49m\u001b[38;5;28;43mself\u001b[39;49m\u001b[43m.\u001b[49m\u001b[43mquestion\u001b[49m\u001b[43m,\u001b[49m\u001b[43m \u001b[49m\u001b[43mcontext_excerpt\u001b[49m\u001b[43m,\u001b[49m\u001b[43m \u001b[49m\u001b[43mverifiable_sentence\u001b[49m\n\u001b[32m    383\u001b[39m \u001b[43m\u001b[49m\u001b[43m)\u001b[49m\n\u001b[32m    385\u001b[39m \u001b[38;5;28;01mif\u001b[39;00m \u001b[38;5;28mself\u001b[39m.logger:\n\u001b[32m    386\u001b[39m     \u001b[38;5;28mself\u001b[39m.logger.info(\u001b[33mf\u001b[39m\u001b[33m\"\u001b[39m\u001b[33mDISAMBIGUATION: Sentence \u001b[39m\u001b[38;5;132;01m{\u001b[39;00mdisambiguation_status\u001b[38;5;132;01m}\u001b[39;00m\u001b[33m\"\u001b[39m)\n",
      "\u001b[36mFile \u001b[39m\u001b[32m<string>:14\u001b[39m, in \u001b[36mrun_disambiguation_stage\u001b[39m\u001b[34m(chat, question, excerpt, sentence)\u001b[39m\n",
      "\u001b[36mFile \u001b[39m\u001b[32m<string>:6\u001b[39m, in \u001b[36mget_prompt\u001b[39m\u001b[34m(prompt_category, prompt_name, values)\u001b[39m\n",
      "\u001b[31mAttributeError\u001b[39m: 'NoneType' object has no attribute 'format_messages'"
     ]
    }
   ],
   "source": [
    "pipeline.run(article)"
   ]
  },
  {
   "cell_type": "code",
   "execution_count": 41,
   "id": "9a561897",
   "metadata": {},
   "outputs": [
    {
     "data": {
      "text/plain": [
       "[SystemMessage(content='You are an assistant for a group of fact-checkers. You will be given a question, which was asked about a source text (it may be referred to by other names, \\ne.g., a dataset). You will also be given an excerpt from a response to the question. If it contains \"[...]\", this means that you are NOT seeing all sentences in the response. You will also be given a particular sentence from the response. The text before and after this sentence will be referred to as \"the context\".\\n\\nYour task is to identify all specific and verifiable propositions in the sentence and ensure that each proposition is decontextualized. A proposition is \"decontextualized\" if (1) it is fully self-contained, meaning it can be understood in isolation (i.e., without the question, the context, and the other propositions), AND (2) its meaning in isolation matches its meaning when interpreted alongside the question, the context, and the other propositions. The propositions should also be the simplest possible discrete units of \\ninformation.\\n\\nNote the following rules:\\n- Here are some examples of sentences that do NOT contain a specific and verifiable proposition:\\n    - By prioritizing ethical considerations, companies can ensure that their innovations are not only groundbreaking but also socially responsible\\n    - Technological progress should be inclusive\\n    - Leveraging advanced technologies is essential for maximizing productivity\\n    - Networking events can be crucial in shaping the paths of young entrepreneurs and providing them with valuable connections\\n    - AI could lead to advancements in healthcare\\n- Sometimes a specific and verifiable proposition is buried in a sentence that is mostly generic or unverifiable. For example, \"John\\'s notable research on neural networks demonstrates the power of innovation\" contains the specific and verifiable proposition \"John has research on neural networks\". Another example is \"TurboCorp exemplifies the positive effects that prioritizing ethical considerations over profit can have on innovation\" where the specific and verifiable proposition is \"TurboCorp prioritizes ethical considerations over profit\".\\n- If the sentence indicates that a specific entity said or did something, it is critical that you retain this context when creating the propositions. For example, if the sentence is \"John highlights the importance of transparent communication, such as in Project Alpha, which aims to double customer satisfaction by the end of the year\", the propositions would be [\"John highlights the importance of transparent communication\", \"John highlights Project Alpha as an example of the importance of transparent communication\", \\n\"Project Alpha aims to double customer satisfaction by the end of the year\"]. The propositions \"transparent communication is important\" and \"Project Alpha is an example of the importance of transparent communication\" would be incorrect since they omit the context that these are things John highlights. However, the last part of the sentence, \"which aims to double customer satisfaction by the end of the year\", is not likely a statement made by John, so it can be its own proposition. Note that if the sentence was something like \"John\\'s career underscores the importance of transparent communication\", it\\'s NOT about what John says or does but rather about how John\\'s career can be interpreted, which is NOT a specific and verifiable proposition.\\n- If the context contains \"[...]\", we cannot see all preceding statements, so we do NOT know for sure whether the sentence is directly answering the question. It might be background information for some statements we can\\'t see. Therefore, you should only assume the sentence is directly answering the question if this is strongly implied.\\n- Do NOT include any citations in the propositions.\\n- Do NOT use any external knowledge beyond what is stated in the question, context, and sentence.\\n\\nHere are some correct examples that you must pay attention to:\\n1. Question = \"Describe the history of TurboCorp\", Context = \"John Smith was an early employee who transitioned to management in 2010\", Sentence = \"At the time, John Smith, led the company\\'s operations and finance teams\"\\n    - MaxClarifiedSentence = In 2010, John Smith led TurboCorp\\'s operations team and finance team. \\n    - Specific, Verifiable, and Decontextualized Propositions: [\"In 2010, John Smith led TurboCorp\\'s operations team\", \"In 2010, John Smith led TurboCorp\\'s finance team\"]\\n2. Question = \"What do technologists think about corporate responsibility?\", Context = \"[...]## Activism\", Sentence = \"Many notable sustainability leaders like Jane do not work directly for a corporation, but her organization CleanTech has powerful partnerships with technology companies (e.g., MiniMax) to significantly improve waste management, demonstrating the power of\\ncollaboration.\"\\n    - MaxClarifiedSentence = Jane is an example of a notable sustainability leader, and she does not work directly for a corporation, and this is true for many notable sustainability leaders, and Jane has an organization called CleanTech, and CleanTech has powerful partnerships with technology companies to significantly improve waste management, and MiniMax is an example of a technology company that CleanTech has a partnership with to improve waste management, and this demonstrates the power of collaboration.\\n    - Specific, Verifiable, and Decontextualized Propositions: [\"Jane is a sustainability leader\", \"Jane does not work directly for a corporation\", \\n    \"Jane has an organization called CleanTech\", \"CleanTech has partnerships with technology companies to improve waste management\", \"MiniMax is a technology company\", \"CleanTech has a partnership with MiniMax to improve waste management\"]\\n3. Question = \"What are the key topics?\", Context = \"The power of mentorship and networking:\", \"Sentence = \"Extensively discussed by notable figures such as John Smith and Jane Doe, who highlight their potential to have substantial benefits for people\\'s careers, like securing promotions and raises\"\\n    - MaxClarifiedSentence = John Smith and Jane Doe discuss the potential of mentorship and networking to have substantial benefits for people\\'s careers, and securing promotions and raises are examples of potential benefits that are discussed by John Smith and Jane Doe.\\n    - Specific, Verifiable, and Decontextualized Propositions: [\"John Smith discusses the potential of mentorship to have substantial benefits for people\\'s careers\", \"Jane Doe discusses the potential of networking to have substantial benefits for people\\'s careers\", \"Jane Doe discusses the potential of mentorship to have substantial benefits for people\\'s careers\", \"Jane Doe discusses the potential of networking to have substantial benefits for people\\'s careers\", \"Securing promotions is an example of a potential benefit of mentorship that is discussed by John Smith\", \"Securing raises is an example of a potential benefit of mentorship that is discussed by John Smith\", \\n    \"Securing promotions is an example of a potential benefit of networking that is discussed by John Smith\", \"Securing raises is an example of a potential benefit of networking that is discussed by John Smith\", \"Securing promotions is an example of a potential benefit of mentorship that is discussed by Jane Doe\", \"Securing raises is an example of a potential benefit of mentorship that is discussed by Jane Doe\", \"Securing promotions is an example of a potential benefit of networking that is discussed by Jane Doe\", \"Securing raises is an example of a potential benefit of networking that is discussed by Jane Doe\"]\\n4. Question = \"What is the status of global trade relations?\", Context = \"[...]**US & China**\", Sentence = \"Trade relations have mostly suffered since the introduction of tariffs, quotas, and other protectionist measures, underscoring the importance of international cooperation.\"\\n    - MaxClarifiedSentence = US-China trade relations have mostly suffered since the introduction of tariffs, quotas, and other protection measures, and this underscores the importance of international cooperation.\\n    - Specific, Verifiable, and Decontextualized Propositions: [\"US-China trade relations have mostly suffered since the introduction of tariffs\", \"US-China trade relations have mostly suffered since the introduction of quotas\", \"US-China trade relations have mostly suffered since the introduction of protectionist measures besides tariffs and quotas\"]\\n5. Question = \"Provide an overview of environmental activists\", Context = \\n\"- Jill Jones\", Sentence = \"- John Smith and Jane Doe (writers of \\'Fighting for Better Tech\\')\"\\n    - MaxClarifiedSentence = John Smith and Jane Doe are writers of \\'Fighting for Better Tech\\'.\\n    - Decontextualized Propositions: [\"John Smith is a writer of \\'Fighting for Better Tech\\'\", \"Jane Doe is a writer of \\'Fighting for Better Tech\\'\"]\\n6. Question = \"What are the experts\\' opinions on disruptive technologies?\", Context = \"[...]However, there is a divergence in how to weigh short-term benefits against long-term risks.\", Sentence = \"These differences are illustrated by the discussion on healthcare: John Smith stresses AI\\'s importance in improving patient outcomes, while others highlight its risks, such as privacy and data security\"\\n    - MaxClarifiedSentence = John Smith stresses AI\\'s importance in improving patient outcomes, and some experts excluding John Smith highlight AI\\'s risks in healthcare, and privacy and data security are examples of AI\\'s risks in healthcare that they highlight.\\n    - Specific, Verifiable, and Decontextualized Propositions: [\"John Smith stresses AI\\'s importance in improving patient outcomes\", \"Some experts excluding John Smith highlight AI\\'s risks in healthcare\", \"Some experts excluding John Smith highlight privacy as a risk of AI in healthcare\", \"Some experts excluding John Smith highlight data security as a risk of AI in healthcare\"]\\n7. Question = \"How can startups improve profitability?\" Context = \"# Case Studies\", Sentence = \"Monetizing distribution channels, as demonstrated by MiniMax\\'s experience with the exciting launch of Buzz, can be effective strategy for increasing revenue\"\\n    - MaxClarifiedSentence = MiniMax experienced the launch of Buzz, and this experience demonstrates that monetizing distribution channels can be an effective strategy for increasing revenue.\\n    - Specific, Verifiable, and Decontextualized Propositions: [\"MiniMax experienced the launch of Buzz\", \"MiniMax\\'s experience with the launch of Buzz demonstrated that monetizing distribution channels can be an effective strategy for increasing revenue\"]\\n8. Question = \"What steps have been taken to promote corporate social responsibility?\", Context = \"In California, the Energy Commission identifies and sanctions companies that fail to meet the state\\'s environmental standards.\" Sentence = \"In 2023, its annual report identified 350 failing companies who will be required spend 2% of their profits on carbon credits, renewable energy projects, or reforestation efforts.\"\\n    - MaxClarifiedSentence = In 2023, the California Energy Commission\\'s annual report identified 350 companies that failed to meet California\\'s environmental standards, and the 350 failing companies will be required to spend 2% of their profits on carbon credits, renewable energy projects, or reforestation efforts.\\n    - Specific, Verifiable, and Decontextualized Propositions: [\"In 2023, the California Energy Commission\\'s annual report identified 350 companies that failed to meet the state\\'s environmental standards\", \"The failing companies identified in the California Energy Commission\\'s 2023 annual report will be required to spend 2% of their profits on carbon credits, renewable energy projects, or reforestation efforts\"]\\n9. Question = \"Explain the role of government in funding schools\", Context = \\n\"California\\'s senate has proposed a new bill to modernize schools.\", Sentence = \\n\"The senate points out that its bill, which aims to ensure that all students have access to the latest technologies, recommends the government provide funding for schools to purchase new equipment, including computers and tablets, when they submit evidence that their current equipment is outdated.\"\\n    - MaxClarifiedSentence = California\\'s senate points out that its bill to modernize schools recommends the government provide funding for schools to purchase new equipment when they submit evidence that their current equipment is outdated, and computers and tablets are examples of new equipment, and the bill\\'s aim is to ensure that all students have access to the latest technologies.\\n    - Specific, Verifiable, and Decontextualized Propositions: [\"California\\'s senate\\'s bill to modernize schools recommends the government provide funding for schools to purchase new equipment when they submit evidence that their current equipment is outdated\", \"Computers are examples of new equipment that the California senate\\'s bill to modernize schools recommends the government provide funding for\", \"Tablets are examples of new equipment that the California senate\\'s bill to modernize schools recommends the government provide funding for\", \"The aim of the California senate\\'s bill to modernize schools is to ensure that all students have access to the latest technologies\"]\\n10. Question = \"What companies are profiled?\", Context = \"John Smith and Jane Doe, the duo behind Youth4Tech, provides coaching for young founders.\", Sentence = \"Their guidance and decision-making have been pivotal in the growth of numerous successful startups, such as TurboCorp and MiniMax.\"\\n    - MaxClarifiedSentence = The guidance and decision-making of John Smith and Jane Doe have been pivotal in the growth of successful startups, and TurboCorp and MiniMax are examples of successful startups that John Smith and Jane Doe\\'s guidance and decision-making have been pivotal in.\\n    - Specific, Verifiable, and Decontextualized Propositions: [\"John Smith\\'s guidance has been pivotal in the growth of successful startups\", \\n    \"John Smith\\'s decision-making has been pivotal in the growth of successful startups\", \"Jane Doe\\'s guidance has been pivotal in the growth of successful startups\", \"Jane Doe\\'s decision-making has been pivotal in the growth of successful startups\", \"TurboCorp is a successful startup\", \"MiniMax is a successful startup\", \"John Smith\\'s guidance has been pivotal in the growth of TurboCorp\", \"John Smith\\'s decision-making has been pivotal in the growth of TurboCorp\", \"John Smith\\'s guidance has been pivotal in the growth of MiniMax\", \"John Smith\\'s decision-making has been pivotal in the growth of MiniMax\", \"Jane Doe\\'s guidance has been pivotal in the growth of TurboCorp\", \"Jane Doe\\'s decision-making has been pivotal in the growth of TurboCorp\", \\n    \"Jane Doe\\'s guidance has been pivotal in the growth of MiniMax\", \"Jane Doe\\'s decision-making has been pivotal in the growth of MiniMax\"]\\n\\nFirst, print \"Sentence:\" followed by the sentence, Then print \"Referential terms whose referents must be clarified (e.g., \"other\"):\" followed by an overview of all terms in the sentence that explicitly or implicitly refer to other terms in the sentence, (e.g., \"other\" in \"the Department of Education, the Department of Defense, and other agencies\" refers to the Department of Education and the Department of Defense; \"earlier\" in \"unlike the 2023 annual report, earlier reports\" refers to the 2023 annual report) or None if there are no referential terms, Then print \"MaxClarifiedSentence:\" which articulates discrete units of information made by the sentence and clarifies referents, Then print \"The range of the possible number of propositions (with some margin for variation) is:\" followed by X-Y where X can be 0 or greater and X and Y must be different integers. Then print \"Specific, Verifiable, and Decontextualized Propositions:\" followed by a list of all propositions that are each specific, verifiable, and fully decontextualized. Use the format below:\\n[\\n\"insert a specific, verifiable, and fully decontextualized proposition\",\\n]\\nNext, it is EXTREMELY important that you consider that each fact-checker in the group will only have access to one of the propositions - they will not have access to the question, the context, and the other propositions. Print \\n\"Specific, Verifiable, and Decontextualized Propositions with Essential Context/Clarifications:\" followed by a final list of instructions for the fact-checkers with **all essential clarifications and context** enclosed in square brackets: [...]. For example, the proposition \"The local council expects its law to pass in January 2025\" might become \"The [Boston] local council expects its law \\n[banning plastic bags] to pass in January 2025 - true or false?\"; the proposition \"Other agencies decreased their deficit\" might become \"Other agencies [besides the Department of Education and the Department of Defense] increased their deficit [relative to 2023] - true or false?\"; the proposition \\n\"The CGP has called for the termination of hostilities\" might become \"The CGP \\n[Committee for Global Peace] has called for the termination of hostilities [in the context of a discussion on the Middle East] - true or false?\". Use the format below:\\n[\\n\"<insert a specific, verifiable, and fully decontextualized proposition with as few or as many [...] as needed> - true or false?\",\\n]', additional_kwargs={}, response_metadata={}),\n",
       " HumanMessage(content='Question:\\n\\n\\nExcerpt:\\n\\n\\nSentence:\\n', additional_kwargs={}, response_metadata={})]"
      ]
     },
     "execution_count": 41,
     "metadata": {},
     "output_type": "execute_result"
    }
   ],
   "source": [
    "from utils.chat import get_prompt\n",
    "prompt = get_prompt(\"claimify\", \"decomposition\", {\"question\": question, \"excerpt\": excerpt, \"sentence\": sentence})\n",
    "# type of prompt\n",
    "prompt"
   ]
  },
  {
   "cell_type": "code",
   "execution_count": 49,
   "id": "d377ea65",
   "metadata": {},
   "outputs": [
    {
     "data": {
      "text/plain": [
       "[SystemMessage(content='You are an assistant to a fact-checker. You will be given a question, which was asked about a source text (it may be referred to by other names, e.g., a \\ndataset). You will also be given an excerpt from a response to the question. If it contains \"[...]\", this means that you are NOT seeing all sentences in the response. You will also be given a particular sentence of interest from the response. Your task is to determine whether this particular sentence contains at least one specific and verifiable proposition, and if so, to return a complete sentence that only contains verifiable information.   \\n\\nNote the following rules:\\n- If the sentence is about a lack of information, e.g., the dataset does not contain information about X, then it does NOT contain a specific and verifiable proposition.\\n- It does NOT matter whether the proposition is true or false.\\n- It does NOT matter whether the proposition is relevant to the question.\\n- It does NOT matter whether the proposition contains ambiguous terms, e.g., a pronoun without a clear antecedent. Assume that the fact-checker has the necessary information to resolve all ambiguities.\\n- You will NOT consider whether a sentence contains a citation when determining if it has a specific and verifiable proposition.\\n\\nYou must consider the preceding and following sentences when determining if the sentence has a specific and verifiable proposition. For example:\\n- if preceding sentence = \"Who is the CEO of Company X?\" and sentence = \"John\" then sentence contains a specific and verifiable proposition.\\n- if preceding sentence = \"Jane Doe introduces the concept of regenerative technology\" and sentence = \"It means using technology to restore ecosystems\" then sentence contains a specific and verifiable proposition.\\n- if preceding sentence = \"Jane is the President of Company Y\" and sentence = \"She has increased its revenue by 20\\\\%\" then sentence contains a specific and verifiable proposition.\\n- if sentence = \"Guests interviewed on the podcast suggest several strategies for fostering innovation\" and the following sentences expand on this point \\n(e.g., give examples of specific guests and their statements), then sentence is an introduction and does NOT contain a specific and verifiable proposition.\\n- if sentence = \"In summary, a wide range of topics, including new technologies, personal development, and mentorship are covered in the dataset\" and the preceding sentences provide details on these topics, then sentence is a conclusion and does NOT contain a specific and verifiable proposition.\\n\\nHere are some examples of sentences that do NOT contain any specific and verifiable propositions:\\n- By prioritizing ethical considerations, companies can ensure that their innovations are not only groundbreaking but also socially responsible\\n- Technological progress should be inclusive\\n- Leveraging advanced technologies is essential for maximizing productivity\\n- Networking events can be crucial in shaping the paths of young entrepreneurs and providing them with valuable connections\\n- AI could lead to advancements in healthcare\\n- This implies that John Smith is a courageous person\\n\\nHere are some examples of sentences that likely contain a specific and verifiable proposition and how they can be rewritten to only include verifiable information:\\n- The partnership between Company X and Company Y illustrates the power of innovation -> \"There is a partnership between Company X and Company Y\"\\n- Jane Doe\\'s approach of embracing adaptability and prioritizing customer feedback can be valuable advice for new executives -> \"Jane Doe\\'s approach includes embracing adaptability and prioritizing customer feedback\"\\n- Smith\\'s advocacy for renewable energy is crucial in addressing these challenges -> \"Smith advocates for renewable energy\"\\n- **John Smith**: instrumental in numerous renewable energy initiatives, playing a pivotal role in Project Green -> \"John Smith participated in renewable energy initiatives, playing a role in Project Green\"\\n- The technology is discussed for its potential to help fight climate change -> remains unchanged\\n- John, the CEO of Company X, is a notable example of effective leadership -> \\n\"John is the CEO of Company X\"\\n- Jane emphasizes the importance of collaboration and perseverance -> remains unchanged\\n- The Behind the Tech podcast by Kevin Scott is an insightful podcast that explores the themes of innovation and technology -> \"The Behind the Tech podcast by Kevin Scott is a podcast that explores the themes of innovation and technology\"\\n- Some economists anticipate the new regulation will immediately double production costs, while others predict a gradual increase -> remains unchanged\\n- AI is frequently discussed in the context of its limitations in ethics and privacy -> \"AI is discussed in the context of its limitations in ethics and privacy\"\\n- The power of branding is highlighted in discussions featuring John Smith and Jane Doe -> remains unchanged\\n- Therefore, leveraging industry events, as demonstrated by Jane\\'s experience at the Tech Networking Club, can provide visibility and traction for new ventures -> \"Jane had an experience at the Tech Networking Club, and her experience involved leveraging an industry event to provide visibility and traction for a new venture\"\\n\\nYour output must adhere to the following format exactly. Only replace what\\'s inside the <insert> tags; do NOT remove the step headers.  \\nSentence: \\n<insert> \\n\\n4-step stream of consciousness thought process (1. reflect on criteria at a high-level -> 2. provide an objective description of the excerpt, the sentence, and its surrounding sentences -> 3. consider all possible perspectives on whether the sentence explicitly or implicitly contains a specific and verifiable proposition, or if it just contains an introduction for the following \\nsentence(s), a conclusion for the preceding sentence(s), broad or generic statements, opinions, interpretations, speculations, statements about a lack of information, etc. -> 4. only if it contains a specific and verifiable proposition: reflect on whether any changes are needed to ensure that the entire sentence only contains verifiable information):\\n<insert>\\n\\nFinal submission:\\n<insert \\'Contains a specific and verifiable proposition\\' or \\'Does NOT contain a specific and verifiable proposition\\'>\\n\\nSentence with only verifiable information:\\n<insert changed sentence, or \\'remains unchanged\\' if no changes, or \\'None\\' if the sentence does NOT contain a specific and verifiable proposition>', additional_kwargs={}, response_metadata={}),\n",
       " HumanMessage(content='Question:\\n\\n\\nExcerpt:\\n\\n\\nSentence:\\n', additional_kwargs={}, response_metadata={})]"
      ]
     },
     "execution_count": 49,
     "metadata": {},
     "output_type": "execute_result"
    }
   ],
   "source": [
    "get_prompt(\"claimify\", \"selection\", {\"question\": question, \"excerpt\": excerpt, \"sentence\": sentence})"
   ]
  },
  {
   "cell_type": "code",
   "execution_count": null,
   "id": "e07aa798",
   "metadata": {},
   "outputs": [],
   "source": []
  }
 ],
 "metadata": {
  "kernelspec": {
   "display_name": "Python 3 (ipykernel)",
   "language": "python",
   "name": "python3"
  },
  "language_info": {
   "codemirror_mode": {
    "name": "ipython",
    "version": 3
   },
   "file_extension": ".py",
   "mimetype": "text/x-python",
   "name": "python",
   "nbconvert_exporter": "python",
   "pygments_lexer": "ipython3",
   "version": "3.12.3"
  }
 },
 "nbformat": 4,
 "nbformat_minor": 5
}
