{
 "cells": [
  {
   "cell_type": "markdown",
   "id": "e77902bd",
   "metadata": {},
   "source": [
    "# 💬 Claimify reproduction study"
   ]
  },
  {
   "cell_type": "code",
   "execution_count": 1,
   "id": "1663efac",
   "metadata": {},
   "outputs": [],
   "source": [
    "# autoreload imports\n",
    "%load_ext autoreload\n",
    "%autoreload 2"
   ]
  },
  {
   "cell_type": "code",
   "execution_count": 2,
   "id": "8540b8d2",
   "metadata": {},
   "outputs": [],
   "source": [
    "from utils.chat import load_md_prompts\n",
    "\n",
    "PROMPT_TEMPLATES = load_md_prompts(\"claimify\")"
   ]
  },
  {
   "cell_type": "markdown",
   "id": "00643476",
   "metadata": {},
   "source": [
    "## 1. Input Question and Answer"
   ]
  },
  {
   "cell_type": "code",
   "execution_count": 4,
   "id": "e39540ef",
   "metadata": {},
   "outputs": [
    {
     "data": {
      "text/plain": [
       "AIMessage(content='Sentence: \\ntodo \\n\\n4-step stream of consciousness thought process (1. reflect on criteria at a high-level -> 2. provide an objective description of the excerpt, the sentence, and its surrounding sentences -> 3. consider all possible perspectives on whether the sentence explicitly or implicitly contains a specific and verifiable proposition, or if it just contains an introduction for the following \\nsentence(s), a conclusion for the preceding sentence(s), broad or generic statements, opinions, interpretations, speculations, statements about a lack of information, etc. -> 4. only if it contains a specific and verifiable proposition: reflect on whether any changes are needed to ensure that the entire sentence only contains verifiable information):\\n1) A sentence contains a specific and verifiable proposition if it asserts a concrete fact that could be checked; placeholders or generic exhortations do not qualify. \\n2) The provided question, excerpt, and sentence are all the placeholder \"todo\"; the sentence is a single word without context or asserted fact. \\n3) \"todo\" as a standalone word is not an assertion; it does not describe an event, attribute, or relation that can be verified. It is neither an introduction nor a conclusion with content; it is just a placeholder. \\n4) Since there is no proposition, no rewrite is possible.\\n\\nFinal submission:\\nDoes NOT contain a specific and verifiable proposition\\n\\nSentence with only verifiable information:\\nNone', additional_kwargs={'refusal': None}, response_metadata={'token_usage': {'completion_tokens': 614, 'prompt_tokens': 1229, 'total_tokens': 1843, 'completion_tokens_details': {'accepted_prediction_tokens': 0, 'audio_tokens': 0, 'reasoning_tokens': 320, 'rejected_prediction_tokens': 0}, 'prompt_tokens_details': {'audio_tokens': 0, 'cached_tokens': 0}}, 'model_name': 'gpt-5-2025-08-07', 'system_fingerprint': None, 'id': 'chatcmpl-C2uZFCOIu873P87LMmaf0vSr4N9co', 'service_tier': 'default', 'finish_reason': 'stop', 'logprobs': None}, id='run--6f4e8829-09c1-4938-b5b3-7bdf2142b537-0', usage_metadata={'input_tokens': 1229, 'output_tokens': 614, 'total_tokens': 1843, 'input_token_details': {'audio': 0, 'cache_read': 0}, 'output_token_details': {'audio': 0, 'reasoning': 320}})"
      ]
     },
     "execution_count": 4,
     "metadata": {},
     "output_type": "execute_result"
    }
   ],
   "source": [
    "# basic chatprompttemplate llm chat with gpt-5 using 'selection' prompt template\n",
    "from langchain_core.prompts import ChatPromptTemplate\n",
    "from langchain_openai import ChatOpenAI\n",
    "from langchain_ollama import ChatOllama\n",
    "\n",
    "import ssl\n",
    "import certifi\n",
    "\n",
    "chat = ChatOpenAI(model=\"gpt-5\")\n",
    "# different chat (qwen:14b using ollama)\n",
    "# chat = ChatOllama(model=\"qwen3:14b\")\n",
    "chat.invoke(PROMPT_TEMPLATES[\"selection\"].format_messages(excerpt=\"todo\", question=\"todo\", sentence=\"todo\"))"
   ]
  },
  {
   "cell_type": "code",
   "execution_count": 6,
   "id": "187c801c",
   "metadata": {},
   "outputs": [
    {
     "data": {
      "text/plain": [
       "AIMessage(content='<think>\\nOkay, let\\'s tackle this. First, I need to figure out if the given sentence contains a specific and verifiable proposition. The rules say that even if it\\'s not true or relevant, as long as it\\'s specific and verifiable, it counts. Let\\'s look at the example provided.\\n\\nThe user hasn\\'t provided the actual question, excerpt, or sentence, so I can\\'t process the specific content. But based on the instructions, I need to check if the sentence has a verifiable fact. For instance, if the sentence was \"John is the CEO of Company X,\" that\\'s verifiable. But if it\\'s a general statement like \"Companies should be ethical,\" that\\'s not.\\n\\nSince the user\\'s input is \"todo\" for all parts, there\\'s no actual data to analyze. Therefore, the answer would depend on the missing information. But following the structure, the response should be based on the provided example. However, without the actual sentence, I can\\'t determine the answer. The correct approach would be to state that the information is missing, but according to the rules, if the user hasn\\'t provided the necessary details, the assistant can\\'t proceed. However, in the context of the example, the assistant should follow the steps as outlined, even if the input is placeholder.\\n</think>\\n\\nSentence: \\n<insert> \\n\\n4-step stream of consciousness thought process (1. reflect on criteria at a high-level -> 2. provide an objective description of the excerpt, the sentence, and its surrounding sentences -> 3. consider all possible perspectives on whether the sentence explicitly or implicitly contains a specific and verifiable proposition, or if it just contains an introduction for the following \\nsentence(s), a conclusion for the preceding sentence(s), broad or generic statements, opinions, interpretations, speculations, statements about a lack of information, etc. -> 4. only if it contains a specific and verifiable proposition: reflect on whether any changes are needed to ensure that the entire sentence only contains verifiable information):\\n<insert> \\n\\nFinal submission:\\n<insert \\'Contains a specific and verifiable proposition\\' or \\'Does NOT contain a specific and verifiable proposition\\'>\\n\\nSentence with only verifiable information:\\n<insert changed sentence, or \\'remains unchanged\\' if no changes, or \\'None\\' if the sentence does NOT contain a specific and verifiable proposition>', additional_kwargs={}, response_metadata={'model': 'qwen3:14b', 'created_at': '2025-08-10T07:16:50.557533504Z', 'done': True, 'done_reason': 'stop', 'total_duration': 27221601856, 'load_duration': 18994698919, 'prompt_eval_count': 1239, 'prompt_eval_duration': 818719114, 'eval_count': 479, 'eval_duration': 7401420990, 'model_name': 'qwen3:14b'}, id='run--81e686fe-8183-453a-bbc2-a2c1e3c80fe0-0', usage_metadata={'input_tokens': 1239, 'output_tokens': 479, 'total_tokens': 1718})"
      ]
     },
     "execution_count": 6,
     "metadata": {},
     "output_type": "execute_result"
    }
   ],
   "source": [
    "chat = ChatOllama(model=\"qwen3:14b\")\n",
    "chat.invoke(PROMPT_TEMPLATES[\"selection\"].format_messages(excerpt=\"todo\", question=\"todo\", sentence=\"todo\"))"
   ]
  }
 ],
 "metadata": {
  "kernelspec": {
   "display_name": "Python 3 (ipykernel)",
   "language": "python",
   "name": "python3"
  },
  "language_info": {
   "codemirror_mode": {
    "name": "ipython",
    "version": 3
   },
   "file_extension": ".py",
   "mimetype": "text/x-python",
   "name": "python",
   "nbconvert_exporter": "python",
   "pygments_lexer": "ipython3",
   "version": "3.12.3"
  }
 },
 "nbformat": 4,
 "nbformat_minor": 5
}
