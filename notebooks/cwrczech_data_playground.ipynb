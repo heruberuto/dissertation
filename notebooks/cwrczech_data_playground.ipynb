{
 "cells": [
  {
   "cell_type": "markdown",
   "id": "964604c5",
   "metadata": {},
   "source": [
    "# CWRCzech data\n",
    "\n",
    "This notebook contains code to demonstrate how to work with CWRCzech and CWRCzech-test sets."
   ]
  },
  {
   "cell_type": "code",
   "execution_count": null,
   "id": "b480dc63",
   "metadata": {},
   "outputs": [],
   "source": [
    "import pandas as pd"
   ]
  },
  {
   "cell_type": "markdown",
   "id": "533900e5",
   "metadata": {},
   "source": [
    "## CWRCzech \n",
    "\n",
    "CWRCzech is distributed as Parquet files and can be loaded using any library that supports Parquet. We use pandas.\n",
    "\n",
    "CWRCzech contains following columns:\n",
    "- requestId: Id of the particular request with a single query.\n",
    "- query: User query with corrected typos and added diacritical marks.\n",
    "- url: Document URL.\n",
    "- title: Words from the document classified by the search engine as a title.\n",
    "- bte: Body text extract, i.e., document body snippet processed by the internal search engine model and trimmed to 230 characters (snippet size complying with fair use). It is empty for the webpages that block search engines or prohibit usage of their contents for GPT training.\n",
    "- order: Position of the document in the search results page. Indices may be absent in cases where a document was no longer indexed at the time of dataset creation.\n",
    "- click: The number of clicks on a given document in given search results.\n",
    "- dwellTime: Time in seconds spent in the clicked document page before the user returned to the search results page. This information is not always available, typically for the last click in the search results."
   ]
  },
  {
   "cell_type": "code",
   "execution_count": 9,
   "id": "524c432d",
   "metadata": {},
   "outputs": [
    {
     "data": {
      "text/html": [
       "<div>\n",
       "<style scoped>\n",
       "    .dataframe tbody tr th:only-of-type {\n",
       "        vertical-align: middle;\n",
       "    }\n",
       "\n",
       "    .dataframe tbody tr th {\n",
       "        vertical-align: top;\n",
       "    }\n",
       "\n",
       "    .dataframe thead th {\n",
       "        text-align: right;\n",
       "    }\n",
       "</style>\n",
       "<table border=\"1\" class=\"dataframe\">\n",
       "  <thead>\n",
       "    <tr style=\"text-align: right;\">\n",
       "      <th></th>\n",
       "      <th>url</th>\n",
       "      <th>title</th>\n",
       "      <th>bte</th>\n",
       "      <th>query</th>\n",
       "      <th>requestId</th>\n",
       "      <th>rank</th>\n",
       "      <th>clicks</th>\n",
       "      <th>dwellTime</th>\n",
       "    </tr>\n",
       "  </thead>\n",
       "  <tbody>\n",
       "    <tr>\n",
       "      <th>0</th>\n",
       "      <td>http://delfy.cz/ucetni-podpora/covid/pozastave...</td>\n",
       "      <td>Pozastavení EET - Delfy</td>\n",
       "      <td>Návrh na pozastavení EET do 1.1.2023 Poslanci ...</td>\n",
       "      <td>eet pozastavení</td>\n",
       "      <td>43364</td>\n",
       "      <td>4</td>\n",
       "      <td>0</td>\n",
       "      <td>NaN</td>\n",
       "    </tr>\n",
       "    <tr>\n",
       "      <th>1</th>\n",
       "      <td>http://fyzika.jreichl.com/main.article/view/45...</td>\n",
       "      <td>Holografie :: MEF</td>\n",
       "      <td>Holografie Na interferenci vysoce koherentního...</td>\n",
       "      <td>co je hologram</td>\n",
       "      <td>43365</td>\n",
       "      <td>5</td>\n",
       "      <td>0</td>\n",
       "      <td>NaN</td>\n",
       "    </tr>\n",
       "    <tr>\n",
       "      <th>2</th>\n",
       "      <td>http://www.abc-lekarna.cz/wurm-ex-20-tobolek-7...</td>\n",
       "      <td>Poradna a zkušenosti WURM-EX 20 tobolek | Pora...</td>\n",
       "      <td>Poradna a zkušenosti WURM-EX 20 tobolek Pro vě...</td>\n",
       "      <td>wurm ex nežádoucí účinky</td>\n",
       "      <td>43366</td>\n",
       "      <td>7</td>\n",
       "      <td>1</td>\n",
       "      <td>NaN</td>\n",
       "    </tr>\n",
       "    <tr>\n",
       "      <th>3</th>\n",
       "      <td>http://www.grafika4u.cz/</td>\n",
       "      <td>Grafika4u.cz</td>\n",
       "      <td>Postaráme se o vaši prezentaci firmy, osobnost...</td>\n",
       "      <td>grafika a tvorba etiket</td>\n",
       "      <td>43367</td>\n",
       "      <td>10</td>\n",
       "      <td>0</td>\n",
       "      <td>NaN</td>\n",
       "    </tr>\n",
       "    <tr>\n",
       "      <th>4</th>\n",
       "      <td>http://www.pokladnice-minci.cz/stare-vzacne-mi...</td>\n",
       "      <td>Staré vzácné mince a jejich hodnota | Pokladni...</td>\n",
       "      <td>Staré vzácné mince a jejich hodnota. Jaké je j...</td>\n",
       "      <td>staré peníze cenné</td>\n",
       "      <td>43368</td>\n",
       "      <td>3</td>\n",
       "      <td>1</td>\n",
       "      <td>NaN</td>\n",
       "    </tr>\n",
       "    <tr>\n",
       "      <th>...</th>\n",
       "      <td>...</td>\n",
       "      <td>...</td>\n",
       "      <td>...</td>\n",
       "      <td>...</td>\n",
       "      <td>...</td>\n",
       "      <td>...</td>\n",
       "      <td>...</td>\n",
       "      <td>...</td>\n",
       "    </tr>\n",
       "    <tr>\n",
       "      <th>192400</th>\n",
       "      <td>https://prima-receptar.cz/chutne-exoticke-pomelo/</td>\n",
       "      <td>Chutné, exotické pomelo – Príma receptář.cz</td>\n",
       "      <td>Chutné, exotické pomelo Málokteré exotické ovo...</td>\n",
       "      <td>pomelo nežádoucí účinky</td>\n",
       "      <td>70902</td>\n",
       "      <td>5</td>\n",
       "      <td>0</td>\n",
       "      <td>NaN</td>\n",
       "    </tr>\n",
       "    <tr>\n",
       "      <th>192401</th>\n",
       "      <td>https://prozeny.blesk.cz/clanek/pro-zeny-zdrav...</td>\n",
       "      <td>Proč vás bolí koleno? Toto jsou nejčastější př...</td>\n",
       "      <td>Proč vás bolí koleno? Toto jsou nejčastější př...</td>\n",
       "      <td>Otok kolene</td>\n",
       "      <td>55503</td>\n",
       "      <td>11</td>\n",
       "      <td>1</td>\n",
       "      <td>211.0</td>\n",
       "    </tr>\n",
       "    <tr>\n",
       "      <th>192402</th>\n",
       "      <td>https://radiozurnal.rozhlas.cz/ruzne-zdravotni...</td>\n",
       "      <td>Různé zdravotní příznaky po bodnutí komárem | ...</td>\n",
       "      <td>Různé zdravotní příznaky po bodnutí komárem Ko...</td>\n",
       "      <td>velký flek po bodnutí komárem</td>\n",
       "      <td>49309</td>\n",
       "      <td>4</td>\n",
       "      <td>0</td>\n",
       "      <td>NaN</td>\n",
       "    </tr>\n",
       "    <tr>\n",
       "      <th>192403</th>\n",
       "      <td>https://sazenicka.cz/pestovani-sater/</td>\n",
       "      <td>Šater aneb nevěstin závoj: Jak si vypěstovat l...</td>\n",
       "      <td>Šater aneb nevěstin závoj: Jak si vypěstovat l...</td>\n",
       "      <td>Jak pěstovat nevěstin závoj</td>\n",
       "      <td>61111</td>\n",
       "      <td>4</td>\n",
       "      <td>0</td>\n",
       "      <td>NaN</td>\n",
       "    </tr>\n",
       "    <tr>\n",
       "      <th>192404</th>\n",
       "      <td>https://sazenicka.cz/pestovani-sater/</td>\n",
       "      <td>Šater aneb nevěstin závoj: Jak si vypěstovat l...</td>\n",
       "      <td>Šater aneb nevěstin závoj: Jak si vypěstovat l...</td>\n",
       "      <td>Jak pěstovat nevěstin závoj</td>\n",
       "      <td>61108</td>\n",
       "      <td>5</td>\n",
       "      <td>0</td>\n",
       "      <td>NaN</td>\n",
       "    </tr>\n",
       "  </tbody>\n",
       "</table>\n",
       "<p>192405 rows × 8 columns</p>\n",
       "</div>"
      ],
      "text/plain": [
       "                                                      url  \\\n",
       "0       http://delfy.cz/ucetni-podpora/covid/pozastave...   \n",
       "1       http://fyzika.jreichl.com/main.article/view/45...   \n",
       "2       http://www.abc-lekarna.cz/wurm-ex-20-tobolek-7...   \n",
       "3                                http://www.grafika4u.cz/   \n",
       "4       http://www.pokladnice-minci.cz/stare-vzacne-mi...   \n",
       "...                                                   ...   \n",
       "192400  https://prima-receptar.cz/chutne-exoticke-pomelo/   \n",
       "192401  https://prozeny.blesk.cz/clanek/pro-zeny-zdrav...   \n",
       "192402  https://radiozurnal.rozhlas.cz/ruzne-zdravotni...   \n",
       "192403              https://sazenicka.cz/pestovani-sater/   \n",
       "192404              https://sazenicka.cz/pestovani-sater/   \n",
       "\n",
       "                                                    title  \\\n",
       "0                                 Pozastavení EET - Delfy   \n",
       "1                                       Holografie :: MEF   \n",
       "2       Poradna a zkušenosti WURM-EX 20 tobolek | Pora...   \n",
       "3                                            Grafika4u.cz   \n",
       "4       Staré vzácné mince a jejich hodnota | Pokladni...   \n",
       "...                                                   ...   \n",
       "192400        Chutné, exotické pomelo – Príma receptář.cz   \n",
       "192401  Proč vás bolí koleno? Toto jsou nejčastější př...   \n",
       "192402  Různé zdravotní příznaky po bodnutí komárem | ...   \n",
       "192403  Šater aneb nevěstin závoj: Jak si vypěstovat l...   \n",
       "192404  Šater aneb nevěstin závoj: Jak si vypěstovat l...   \n",
       "\n",
       "                                                      bte  \\\n",
       "0       Návrh na pozastavení EET do 1.1.2023 Poslanci ...   \n",
       "1       Holografie Na interferenci vysoce koherentního...   \n",
       "2       Poradna a zkušenosti WURM-EX 20 tobolek Pro vě...   \n",
       "3       Postaráme se o vaši prezentaci firmy, osobnost...   \n",
       "4       Staré vzácné mince a jejich hodnota. Jaké je j...   \n",
       "...                                                   ...   \n",
       "192400  Chutné, exotické pomelo Málokteré exotické ovo...   \n",
       "192401  Proč vás bolí koleno? Toto jsou nejčastější př...   \n",
       "192402  Různé zdravotní příznaky po bodnutí komárem Ko...   \n",
       "192403  Šater aneb nevěstin závoj: Jak si vypěstovat l...   \n",
       "192404  Šater aneb nevěstin závoj: Jak si vypěstovat l...   \n",
       "\n",
       "                                query  requestId  rank  clicks  dwellTime  \n",
       "0                     eet pozastavení      43364     4       0        NaN  \n",
       "1                      co je hologram      43365     5       0        NaN  \n",
       "2            wurm ex nežádoucí účinky      43366     7       1        NaN  \n",
       "3             grafika a tvorba etiket      43367    10       0        NaN  \n",
       "4                  staré peníze cenné      43368     3       1        NaN  \n",
       "...                               ...        ...   ...     ...        ...  \n",
       "192400        pomelo nežádoucí účinky      70902     5       0        NaN  \n",
       "192401                    Otok kolene      55503    11       1      211.0  \n",
       "192402  velký flek po bodnutí komárem      49309     4       0        NaN  \n",
       "192403    Jak pěstovat nevěstin závoj      61111     4       0        NaN  \n",
       "192404    Jak pěstovat nevěstin závoj      61108     5       0        NaN  \n",
       "\n",
       "[192405 rows x 8 columns]"
      ]
     },
     "execution_count": 9,
     "metadata": {},
     "output_type": "execute_result"
    }
   ],
   "source": [
    "cwrczech = pd.read_parquet('/mnt/data/factcheck/cwrczech/train/part-00001-f358ed27-e8cb-4187-bd72-74c7faf94d21-c000.snappy.parquet')\n",
    "cwrczech"
   ]
  },
  {
   "cell_type": "markdown",
   "id": "f9d4e665",
   "metadata": {},
   "source": [
    "With CWRCzech sample loaded, we can for example inspect concrete url."
   ]
  },
  {
   "cell_type": "code",
   "execution_count": 12,
   "id": "c2ff9de3",
   "metadata": {
    "scrolled": true
   },
   "outputs": [
    {
     "data": {
      "text/html": [
       "<div>\n",
       "<style scoped>\n",
       "    .dataframe tbody tr th:only-of-type {\n",
       "        vertical-align: middle;\n",
       "    }\n",
       "\n",
       "    .dataframe tbody tr th {\n",
       "        vertical-align: top;\n",
       "    }\n",
       "\n",
       "    .dataframe thead th {\n",
       "        text-align: right;\n",
       "    }\n",
       "</style>\n",
       "<table border=\"1\" class=\"dataframe\">\n",
       "  <thead>\n",
       "    <tr style=\"text-align: right;\">\n",
       "      <th></th>\n",
       "      <th>url</th>\n",
       "      <th>title</th>\n",
       "      <th>bte</th>\n",
       "      <th>query</th>\n",
       "      <th>requestId</th>\n",
       "      <th>rank</th>\n",
       "      <th>clicks</th>\n",
       "      <th>dwellTime</th>\n",
       "    </tr>\n",
       "  </thead>\n",
       "  <tbody>\n",
       "    <tr>\n",
       "      <th>192403</th>\n",
       "      <td>https://sazenicka.cz/pestovani-sater/</td>\n",
       "      <td>Šater aneb nevěstin závoj: Jak si vypěstovat l...</td>\n",
       "      <td>Šater aneb nevěstin závoj: Jak si vypěstovat l...</td>\n",
       "      <td>Jak pěstovat nevěstin závoj</td>\n",
       "      <td>61111</td>\n",
       "      <td>4</td>\n",
       "      <td>0</td>\n",
       "      <td>NaN</td>\n",
       "    </tr>\n",
       "    <tr>\n",
       "      <th>192404</th>\n",
       "      <td>https://sazenicka.cz/pestovani-sater/</td>\n",
       "      <td>Šater aneb nevěstin závoj: Jak si vypěstovat l...</td>\n",
       "      <td>Šater aneb nevěstin závoj: Jak si vypěstovat l...</td>\n",
       "      <td>Jak pěstovat nevěstin závoj</td>\n",
       "      <td>61108</td>\n",
       "      <td>5</td>\n",
       "      <td>0</td>\n",
       "      <td>NaN</td>\n",
       "    </tr>\n",
       "  </tbody>\n",
       "</table>\n",
       "</div>"
      ],
      "text/plain": [
       "                                          url  \\\n",
       "192403  https://sazenicka.cz/pestovani-sater/   \n",
       "192404  https://sazenicka.cz/pestovani-sater/   \n",
       "\n",
       "                                                    title  \\\n",
       "192403  Šater aneb nevěstin závoj: Jak si vypěstovat l...   \n",
       "192404  Šater aneb nevěstin závoj: Jak si vypěstovat l...   \n",
       "\n",
       "                                                      bte  \\\n",
       "192403  Šater aneb nevěstin závoj: Jak si vypěstovat l...   \n",
       "192404  Šater aneb nevěstin závoj: Jak si vypěstovat l...   \n",
       "\n",
       "                              query  requestId  rank  clicks  dwellTime  \n",
       "192403  Jak pěstovat nevěstin závoj      61111     4       0        NaN  \n",
       "192404  Jak pěstovat nevěstin závoj      61108     5       0        NaN  "
      ]
     },
     "execution_count": 12,
     "metadata": {},
     "output_type": "execute_result"
    }
   ],
   "source": [
    "cwrczech[cwrczech['url'] == 'https://sazenicka.cz/pestovani-sater/']"
   ]
  },
  {
   "cell_type": "code",
   "execution_count": 14,
   "id": "ad41e7df",
   "metadata": {},
   "outputs": [
    {
     "data": {
      "text/plain": [
       "'Šater aneb nevěstin závoj: Jak si vypěstovat letničku s drobnými kvítky Šater se často využívá do vazby slavnostních květin, zvlášť svatebních. Záplava křehkých kvítků připomíná krajkový závoj. Naše babičky pěstovaly v zahrádkách '"
      ]
     },
     "execution_count": 14,
     "metadata": {},
     "output_type": "execute_result"
    }
   ],
   "source": [
    "cwrczech['bte'][192404]"
   ]
  },
  {
   "cell_type": "markdown",
   "id": "2a482e8f",
   "metadata": {},
   "source": [
    "We can also analyse the distribution of clicks per query."
   ]
  },
  {
   "cell_type": "code",
   "execution_count": 5,
   "id": "3e903c9b",
   "metadata": {},
   "outputs": [],
   "source": [
    "import numpy as np, matplotlib.pyplot as plt\n",
    "\n",
    "cwrczech = pd.read_parquet('/mnt/data/factcheck/cwrczech/train', columns=['query', 'clicks', 'dwellTime'])"
   ]
  },
  {
   "cell_type": "code",
   "execution_count": 6,
   "id": "c17e4e61",
   "metadata": {},
   "outputs": [
    {
     "data": {
      "text/plain": [
       "Text(0, 0.5, 'Count [-]')"
      ]
     },
     "execution_count": 6,
     "metadata": {},
     "output_type": "execute_result"
    },
    {
     "data": {
      "image/png": "[encoded data removed]",
      "text/plain": [
       "<Figure size 640x480 with 1 Axes>"
      ]
     },
     "metadata": {},
     "output_type": "display_data"
    }
   ],
   "source": [
    "cwrczech.groupby(\"query\").clicks.sum().clip(0, 100).hist(bins=100)\n",
    "\n",
    "plt.xlabel(\"Clicks per query [-]\")\n",
    "plt.ylabel(\"Count [-]\")"
   ]
  },
  {
   "cell_type": "markdown",
   "metadata": {},
   "source": [
    "Or the distribution of dwell times!"
   ]
  },
  {
   "cell_type": "code",
   "execution_count": 38,
   "id": "1d64688e",
   "metadata": {},
   "outputs": [
    {
     "data": {
      "text/plain": [
       "Text(0, 0.5, 'Count [-]')"
      ]
     },
     "execution_count": 38,
     "metadata": {},
     "output_type": "execute_result"
    },
    {
     "data": {
      "image/png": "[encoded data removed]",
      "text/plain": [
       "<Figure size 640x480 with 1 Axes>"
      ]
     },
     "metadata": {},
     "output_type": "display_data"
    }
   ],
   "source": [
    "cwrczech[cwrczech.dwellTime > 0].groupby(\"query\").dwellTime.sum().apply(np.log).hist(bins=100)\n",
    "\n",
    "plt.xlabel(\"Dwell times per query [Log(s)]\")\n",
    "plt.ylabel(\"Count [-]\")"
   ]
  },
  {
   "cell_type": "markdown",
   "id": "92a48be5",
   "metadata": {},
   "source": [
    "## CWRCzech-test"
   ]
  },
  {
   "cell_type": "markdown",
   "id": "b41e1ad2",
   "metadata": {},
   "source": [
    "CWRCzech-test is distributed as a tsv file. Similarly to CWRCzech, we use pandas to load it.\n",
    "\n",
    "CWRCzech-test contains following columns:\n",
    "- query: User query with corrected typos and added diacritical marks.\n",
    "- url: Document URL.\n",
    "- title: Words from the document classified by the search engine as a title.\n",
    "- bte: Body text extract, i.e., document body snippet processed by the internal search engine model and trimmed to 230 characters (snippet size complying with fair use). It is empty for the webpages that block search engines or prohibit usage of their contents for GPT training.\n",
    "- label: ground-truth label. It is computed as a median value of 2 or 3 annotators."
   ]
  },
  {
   "cell_type": "code",
   "execution_count": 15,
   "id": "bfafa666",
   "metadata": {},
   "outputs": [
    {
     "data": {
      "text/html": [
       "<div>\n",
       "<style scoped>\n",
       "    .dataframe tbody tr th:only-of-type {\n",
       "        vertical-align: middle;\n",
       "    }\n",
       "\n",
       "    .dataframe tbody tr th {\n",
       "        vertical-align: top;\n",
       "    }\n",
       "\n",
       "    .dataframe thead th {\n",
       "        text-align: right;\n",
       "    }\n",
       "</style>\n",
       "<table border=\"1\" class=\"dataframe\">\n",
       "  <thead>\n",
       "    <tr style=\"text-align: right;\">\n",
       "      <th></th>\n",
       "      <th>url</th>\n",
       "      <th>query</th>\n",
       "      <th>title</th>\n",
       "      <th>bte</th>\n",
       "      <th>label</th>\n",
       "    </tr>\n",
       "  </thead>\n",
       "  <tbody>\n",
       "    <tr>\n",
       "      <th>0</th>\n",
       "      <td>http://vseobecnalekarka.cz/aktualni-informace/</td>\n",
       "      <td>karanténa pro očkované</td>\n",
       "      <td>Aktuality – Všeobecná lékařka Újezd</td>\n",
       "      <td>None</td>\n",
       "      <td>0.00</td>\n",
       "    </tr>\n",
       "    <tr>\n",
       "      <th>1</th>\n",
       "      <td>http://www.polesisvatyjan.cz/content/cz/Defaul...</td>\n",
       "      <td>vyříznutí dřevěného kruhu</td>\n",
       "      <td>None</td>\n",
       "      <td>POLESÍ SVATÝ JAN Naše firma provádí komplexní ...</td>\n",
       "      <td>0.00</td>\n",
       "    </tr>\n",
       "    <tr>\n",
       "      <th>2</th>\n",
       "      <td>https://bandzone.cz/vs/video/61946-vinny-strik...</td>\n",
       "      <td>porno videa</td>\n",
       "      <td>Vinný střik - Videa | Bandzone.cz</td>\n",
       "      <td>Vinný střik pop-rock / Litovel Zpěv - Igor Sit...</td>\n",
       "      <td>0.00</td>\n",
       "    </tr>\n",
       "    <tr>\n",
       "      <th>3</th>\n",
       "      <td>https://commons.wikimedia.org/wiki/File:Abszes...</td>\n",
       "      <td>absces v prsu</td>\n",
       "      <td>File:Abszess.jpg - Wikimedia Commons</td>\n",
       "      <td>File : Abszess.jpg From Wikimedia Commons, the...</td>\n",
       "      <td>0.00</td>\n",
       "    </tr>\n",
       "    <tr>\n",
       "      <th>4</th>\n",
       "      <td>https://cs.wikipedia.org/wiki/Grace_Kellyov%C3%A1</td>\n",
       "      <td>nevolnost od krční páteře</td>\n",
       "      <td>Grace Kellyová – Wikipedie</td>\n",
       "      <td>Obsah přesunout do postranního panelu skrýt (ú...</td>\n",
       "      <td>0.00</td>\n",
       "    </tr>\n",
       "    <tr>\n",
       "      <th>...</th>\n",
       "      <td>...</td>\n",
       "      <td>...</td>\n",
       "      <td>...</td>\n",
       "      <td>...</td>\n",
       "      <td>...</td>\n",
       "    </tr>\n",
       "    <tr>\n",
       "      <th>49940</th>\n",
       "      <td>https://www.uzdravim.cz/zablokovana-krcni-pate...</td>\n",
       "      <td>nevolnost od krční páteře</td>\n",
       "      <td>Zablokovaná krční páteř</td>\n",
       "      <td>Zablokovaná krční páteř Krční páteř je nejvíce...</td>\n",
       "      <td>0.66</td>\n",
       "    </tr>\n",
       "    <tr>\n",
       "      <th>49941</th>\n",
       "      <td>https://www.zbozi.cz/kultura-a-zabava/knihy/?v...</td>\n",
       "      <td>tetování motivy vodnář</td>\n",
       "      <td>Knihy Vodnář - Zboží</td>\n",
       "      <td>Knihy Vodnář</td>\n",
       "      <td>0.00</td>\n",
       "    </tr>\n",
       "    <tr>\n",
       "      <th>49942</th>\n",
       "      <td>https://www.zbozi.cz/kultura-a-zabava/volny-ca...</td>\n",
       "      <td>jak si uplést košík</td>\n",
       "      <td>Nástroje na nitě a příze Stoklasa - Zboží</td>\n",
       "      <td>Nástroje na nitě a příze Stoklasa Sada háčků n...</td>\n",
       "      <td>0.00</td>\n",
       "    </tr>\n",
       "    <tr>\n",
       "      <th>49943</th>\n",
       "      <td>https://www.zbozi.cz/kultura-a-zabava/volny-ca...</td>\n",
       "      <td>jak uplést zimní čepici a šálu</td>\n",
       "      <td>Nástroje na nitě a příze Stoklasa - Zboží</td>\n",
       "      <td>Nástroje na nitě a příze Stoklasa Sada háčků n...</td>\n",
       "      <td>0.00</td>\n",
       "    </tr>\n",
       "    <tr>\n",
       "      <th>49944</th>\n",
       "      <td>https://zahradananiti.blogspot.com/2018/08/jak...</td>\n",
       "      <td>jak pečovat o sukulenty</td>\n",
       "      <td>Zahrada na niti: Jak pěstovat sukulenty a kaktusy</td>\n",
       "      <td>Kaktusy a sukulenty nejsou náročné rostliny a ...</td>\n",
       "      <td>1.00</td>\n",
       "    </tr>\n",
       "  </tbody>\n",
       "</table>\n",
       "<p>49945 rows × 5 columns</p>\n",
       "</div>"
      ],
      "text/plain": [
       "                                                     url  \\\n",
       "0         http://vseobecnalekarka.cz/aktualni-informace/   \n",
       "1      http://www.polesisvatyjan.cz/content/cz/Defaul...   \n",
       "2      https://bandzone.cz/vs/video/61946-vinny-strik...   \n",
       "3      https://commons.wikimedia.org/wiki/File:Abszes...   \n",
       "4      https://cs.wikipedia.org/wiki/Grace_Kellyov%C3%A1   \n",
       "...                                                  ...   \n",
       "49940  https://www.uzdravim.cz/zablokovana-krcni-pate...   \n",
       "49941  https://www.zbozi.cz/kultura-a-zabava/knihy/?v...   \n",
       "49942  https://www.zbozi.cz/kultura-a-zabava/volny-ca...   \n",
       "49943  https://www.zbozi.cz/kultura-a-zabava/volny-ca...   \n",
       "49944  https://zahradananiti.blogspot.com/2018/08/jak...   \n",
       "\n",
       "                                query  \\\n",
       "0              karanténa pro očkované   \n",
       "1           vyříznutí dřevěného kruhu   \n",
       "2                         porno videa   \n",
       "3                       absces v prsu   \n",
       "4           nevolnost od krční páteře   \n",
       "...                               ...   \n",
       "49940       nevolnost od krční páteře   \n",
       "49941          tetování motivy vodnář   \n",
       "49942             jak si uplést košík   \n",
       "49943  jak uplést zimní čepici a šálu   \n",
       "49944         jak pečovat o sukulenty   \n",
       "\n",
       "                                                   title  \\\n",
       "0                    Aktuality – Všeobecná lékařka Újezd   \n",
       "1                                                   None   \n",
       "2                      Vinný střik - Videa | Bandzone.cz   \n",
       "3                   File:Abszess.jpg - Wikimedia Commons   \n",
       "4                             Grace Kellyová – Wikipedie   \n",
       "...                                                  ...   \n",
       "49940                            Zablokovaná krční páteř   \n",
       "49941                               Knihy Vodnář - Zboží   \n",
       "49942          Nástroje na nitě a příze Stoklasa - Zboží   \n",
       "49943          Nástroje na nitě a příze Stoklasa - Zboží   \n",
       "49944  Zahrada na niti: Jak pěstovat sukulenty a kaktusy   \n",
       "\n",
       "                                                     bte  label  \n",
       "0                                                   None   0.00  \n",
       "1      POLESÍ SVATÝ JAN Naše firma provádí komplexní ...   0.00  \n",
       "2      Vinný střik pop-rock / Litovel Zpěv - Igor Sit...   0.00  \n",
       "3      File : Abszess.jpg From Wikimedia Commons, the...   0.00  \n",
       "4      Obsah přesunout do postranního panelu skrýt (ú...   0.00  \n",
       "...                                                  ...    ...  \n",
       "49940  Zablokovaná krční páteř Krční páteř je nejvíce...   0.66  \n",
       "49941                                       Knihy Vodnář   0.00  \n",
       "49942  Nástroje na nitě a příze Stoklasa Sada háčků n...   0.00  \n",
       "49943  Nástroje na nitě a příze Stoklasa Sada háčků n...   0.00  \n",
       "49944  Kaktusy a sukulenty nejsou náročné rostliny a ...   1.00  \n",
       "\n",
       "[49945 rows x 5 columns]"
      ]
     },
     "execution_count": 15,
     "metadata": {},
     "output_type": "execute_result"
    }
   ],
   "source": [
    "cwrczech_test = pd.read_parquet('/mnt/data/factcheck/cwrczech/test.parquet')\n",
    "cwrczech_test\n"
   ]
  },
  {
   "cell_type": "markdown",
   "id": "2dcb48be",
   "metadata": {},
   "source": [
    "We can compute various statistics over CWRCzech-test such as the histogram for number of documents per query:"
   ]
  },
  {
   "cell_type": "code",
   "execution_count": 27,
   "id": "664225ca",
   "metadata": {},
   "outputs": [
    {
     "data": {
      "text/plain": [
       "Text(0.5, 0, 'Unique pages per query [-]')"
      ]
     },
     "execution_count": 27,
     "metadata": {},
     "output_type": "execute_result"
    },
    {
     "data": {
      "image/png": "[encoded data removed]",
      "text/plain": [
       "<Figure size 640x480 with 1 Axes>"
      ]
     },
     "metadata": {},
     "output_type": "display_data"
    }
   ],
   "source": [
    "cwrczech_test.groupby('query')['url'].nunique().hist(bins=50)\n",
    "plt.ylabel(\"Count [-]\")\n",
    "plt.xlabel(\"Unique pages per query [-]\")"
   ]
  }
 ],
 "metadata": {
  "kernelspec": {
   "display_name": "Python 3 (ipykernel)",
   "language": "python",
   "name": "python3"
  }
 },
 "nbformat": 4,
 "nbformat_minor": 5
}
