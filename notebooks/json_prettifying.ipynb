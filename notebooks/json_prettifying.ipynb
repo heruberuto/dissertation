{
 "cells": [
  {
   "cell_type": "code",
   "execution_count": 1,
   "id": "3ef64de3",
   "metadata": {},
   "outputs": [],
   "source": [
    "import json\n",
    "filename = \"/mnt/data/factcheck/averimatec/train.json\"\n",
    "filename = \"/mnt/data/factcheck/demagog/demagog_statements.json\"\n",
    "\n",
    "with open(filename, \"r\") as file:\n",
    "    data = json.load(file)\n",
    "\n",
    "with open(filename,\"w\") as file:\n",
    "    json.dump(data, file, indent=4, ensure_ascii=False)"
   ]
  },
  {
   "cell_type": "code",
   "execution_count": null,
   "id": "af6209f4",
   "metadata": {},
   "outputs": [],
   "source": [
    "# import langchain exa search\n",
    "from langchain_exa import ExaSearchRetriever\n"
   ]
  }
 ],
 "metadata": {
  "kernelspec": {
   "display_name": "Python 3 (ipykernel)",
   "language": "python",
   "name": "python3"
  },
  "language_info": {
   "codemirror_mode": {
    "name": "ipython",
    "version": 3
   },
   "file_extension": ".py",
   "mimetype": "text/x-python",
   "name": "python",
   "nbconvert_exporter": "python",
   "pygments_lexer": "ipython3",
   "version": "3.12.3"
  }
 },
 "nbformat": 4,
 "nbformat_minor": 5
}
